{
 "cells": [
  {
   "cell_type": "code",
   "execution_count": 1,
   "metadata": {},
   "outputs": [],
   "source": [
    "import numpy as np\n",
    "import matplotlib.pyplot as plt\n",
    "import pandas as pd\n",
    "import statsmodels.api as sm \n",
    "from scipy.stats import norm\n",
    "import pylab as py \n",
    "import statistics\n",
    "import math\n",
    "%matplotlib inline\n"
   ]
  },
  {
   "cell_type": "code",
   "execution_count": 2,
   "metadata": {},
   "outputs": [
    {
     "data": {
      "text/html": [
       "<div>\n",
       "<style scoped>\n",
       "    .dataframe tbody tr th:only-of-type {\n",
       "        vertical-align: middle;\n",
       "    }\n",
       "\n",
       "    .dataframe tbody tr th {\n",
       "        vertical-align: top;\n",
       "    }\n",
       "\n",
       "    .dataframe thead th {\n",
       "        text-align: right;\n",
       "    }\n",
       "</style>\n",
       "<table border=\"1\" class=\"dataframe\">\n",
       "  <thead>\n",
       "    <tr style=\"text-align: right;\">\n",
       "      <th></th>\n",
       "      <th>Sitting _Force (N)</th>\n",
       "      <th>Standing _Force (N)</th>\n",
       "      <th>Walking_Force (N)</th>\n",
       "    </tr>\n",
       "  </thead>\n",
       "  <tbody>\n",
       "    <tr>\n",
       "      <td>0</td>\n",
       "      <td>4.013054</td>\n",
       "      <td>5.313553</td>\n",
       "      <td>8.451088</td>\n",
       "    </tr>\n",
       "    <tr>\n",
       "      <td>1</td>\n",
       "      <td>3.977287</td>\n",
       "      <td>5.420860</td>\n",
       "      <td>8.525185</td>\n",
       "    </tr>\n",
       "    <tr>\n",
       "      <td>2</td>\n",
       "      <td>3.903191</td>\n",
       "      <td>5.520508</td>\n",
       "      <td>8.525185</td>\n",
       "    </tr>\n",
       "    <tr>\n",
       "      <td>3</td>\n",
       "      <td>3.882751</td>\n",
       "      <td>5.415749</td>\n",
       "      <td>8.356552</td>\n",
       "    </tr>\n",
       "    <tr>\n",
       "      <td>4</td>\n",
       "      <td>3.862312</td>\n",
       "      <td>5.173027</td>\n",
       "      <td>8.062729</td>\n",
       "    </tr>\n",
       "  </tbody>\n",
       "</table>\n",
       "</div>"
      ],
      "text/plain": [
       "   Sitting _Force (N)  Standing _Force (N)  Walking_Force (N)\n",
       "0            4.013054             5.313553           8.451088\n",
       "1            3.977287             5.420860           8.525185\n",
       "2            3.903191             5.520508           8.525185\n",
       "3            3.882751             5.415749           8.356552\n",
       "4            3.862312             5.173027           8.062729"
      ]
     },
     "execution_count": 2,
     "metadata": {},
     "output_type": "execute_result"
    }
   ],
   "source": [
    "#importing the SITTING dataset \n",
    "dataset = pd.read_csv('sitting.csv')\n",
    "dataset.head()"
   ]
  },
  {
   "cell_type": "code",
   "execution_count": 3,
   "metadata": {},
   "outputs": [
    {
     "name": "stdout",
     "output_type": "stream",
     "text": [
      "[3.0191525700926665, 5.12179586284, 7.124916610745333]\n",
      "[0.22500154437840109, 2.445754706021576, 6.833486224677752]\n"
     ]
    },
    {
     "data": {
      "text/plain": [
       "Text(0, 0.5, 'Probability Density')"
      ]
     },
     "execution_count": 3,
     "metadata": {},
     "output_type": "execute_result"
    },
    {
     "data": {
      "image/png": "[encoded data removed]",
      "text/plain": [
       "<Figure size 432x288 with 1 Axes>"
      ]
     },
     "metadata": {
      "needs_background": "light"
     },
     "output_type": "display_data"
    }
   ],
   "source": [
    "# Distribution of points (To check Overlapping among data)\n",
    "\n",
    "mean = [statistics.mean(dataset['Sitting _Force (N)']),statistics.mean(dataset['Standing _Force (N)']),statistics.mean(dataset['Walking_Force (N)'])]\n",
    "print(mean)\n",
    "variance = [statistics.variance(dataset['Sitting _Force (N)']),statistics.variance(dataset['Standing _Force (N)']),statistics.variance(dataset['Walking_Force (N)'])]\n",
    "print(variance)\n",
    "\n",
    "sigma = []\n",
    "for i in range(0,len(variance)):\n",
    "    sigma1 = math.sqrt(variance[i])\n",
    "    sigma.append(sigma1)\n",
    "    \n",
    "plt.plot(dataset['Sitting _Force (N)'], norm.pdf(dataset['Sitting _Force (N)'],mean[0],sigma[0]))\n",
    "plt.plot(dataset['Standing _Force (N)'], norm.pdf(dataset['Standing _Force (N)'],mean[1],sigma[1]))\n",
    "plt.plot(dataset['Walking_Force (N)'], norm.pdf(dataset['Walking_Force (N)'],mean[2],sigma[2]))\n",
    "plt.legend(('Sitting','Standing','Walking'))\n",
    "plt.xlabel('Force(N)')  \n",
    "plt.ylabel('Probability Density')"
   ]
  },
  {
   "cell_type": "code",
   "execution_count": 28,
   "metadata": {},
   "outputs": [
    {
     "data": {
      "text/plain": [
       "Text(0, 0.5, 'Probability Density')"
      ]
     },
     "execution_count": 28,
     "metadata": {},
     "output_type": "execute_result"
    },
    {
     "data": {
      "image/png": "[encoded data removed]",
      "text/plain": [
       "<Figure size 432x288 with 1 Axes>"
      ]
     },
     "metadata": {
      "needs_background": "light"
     },
     "output_type": "display_data"
    }
   ],
   "source": [
    "# Check Normal Distribution\n",
    "\n",
    "plt.hist(dataset['Sitting _Force (N)'],alpha=0.3 )\n",
    "plt.hist(dataset['Standing _Force (N)'], alpha=0.35)\n",
    "plt.hist(dataset['Walking_Force (N)'], alpha=0.3);\n",
    "plt.legend(('Sitting','Standing','Walking'))\n",
    "plt.xlabel('Force(N)')  \n",
    "plt.ylabel('Probability Density')\n",
    "\n",
    "# Varaition of Force increases from Sitting, Standing to Walking and can be interpreted from Histogram below.\n",
    "# Each of the Activities follows Normal Distribution."
   ]
  },
  {
   "cell_type": "code",
   "execution_count": null,
   "metadata": {},
   "outputs": [],
   "source": []
  },
  {
   "cell_type": "code",
   "execution_count": null,
   "metadata": {},
   "outputs": [],
   "source": []
  },
  {
   "cell_type": "code",
   "execution_count": null,
   "metadata": {},
   "outputs": [],
   "source": []
  },
  {
   "cell_type": "code",
   "execution_count": null,
   "metadata": {},
   "outputs": [],
   "source": []
  },
  {
   "cell_type": "code",
   "execution_count": null,
   "metadata": {},
   "outputs": [],
   "source": []
  }
 ],
 "metadata": {
  "kernelspec": {
   "display_name": "Python 3",
   "language": "python",
   "name": "python3"
  },
  "language_info": {
   "codemirror_mode": {
    "name": "ipython",
    "version": 3
   },
   "file_extension": ".py",
   "mimetype": "text/x-python",
   "name": "python",
   "nbconvert_exporter": "python",
   "pygments_lexer": "ipython3",
   "version": "3.7.4"
  }
 },
 "nbformat": 4,
 "nbformat_minor": 2
}
