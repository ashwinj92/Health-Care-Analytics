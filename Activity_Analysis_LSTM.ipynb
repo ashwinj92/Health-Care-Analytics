{
 "cells": [
  {
   "cell_type": "markdown",
   "metadata": {},
   "source": [
    "# Activity_Analysis"
   ]
  },
  {
   "cell_type": "code",
   "execution_count": 1,
   "metadata": {},
   "outputs": [],
   "source": [
    "import numpy as np\n",
    "import matplotlib.pyplot as plt\n",
    "import pandas as pd\n",
    "import statsmodels.api as sm \n",
    "from scipy.stats import norm\n",
    "import pylab as py \n",
    "import statistics\n",
    "import math\n",
    "import keras\n",
    "from sklearn.preprocessing import MinMaxScaler, StandardScaler\n",
    "from sklearn.metrics import mean_squared_error\n",
    "from sklearn.model_selection import train_test_split\n",
    "from keras.models import model_from_json\n",
    "from keras.models import Sequential\n",
    "from keras.layers import Dense, LSTM, Softmax, Dropout\n",
    "from keras.callbacks import EarlyStopping\n",
    "from keras.optimizers import Adam\n",
    "from keras.utils import to_categorical\n",
    "from keras.models import load_model\n",
    "from matplotlib import pyplot\n",
    "%matplotlib inline"
   ]
  },
  {
   "cell_type": "code",
   "execution_count": 2,
   "metadata": {},
   "outputs": [],
   "source": [
    "path = \"/home/ronaldson_bellande/Desktop/Healthcare Data Analytics/Research_Project/Force data/\"\n",
    "sitting_data = pd.read_csv(path + 'sitting.csv')\n",
    "standing_data = pd.read_csv(path + 'standing.csv')\n",
    "walking_data = pd.read_csv(path + 'walking.csv')"
   ]
  },
  {
   "cell_type": "code",
   "execution_count": 3,
   "metadata": {},
   "outputs": [
    {
     "data": {
      "text/html": [
       "<div>\n",
       "<style scoped>\n",
       "    .dataframe tbody tr th:only-of-type {\n",
       "        vertical-align: middle;\n",
       "    }\n",
       "\n",
       "    .dataframe tbody tr th {\n",
       "        vertical-align: top;\n",
       "    }\n",
       "\n",
       "    .dataframe thead th {\n",
       "        text-align: right;\n",
       "    }\n",
       "</style>\n",
       "<table border=\"1\" class=\"dataframe\">\n",
       "  <thead>\n",
       "    <tr style=\"text-align: right;\">\n",
       "      <th></th>\n",
       "      <th>Force (N)</th>\n",
       "    </tr>\n",
       "  </thead>\n",
       "  <tbody>\n",
       "    <tr>\n",
       "      <th>0</th>\n",
       "      <td>4.013054</td>\n",
       "    </tr>\n",
       "    <tr>\n",
       "      <th>1</th>\n",
       "      <td>3.977287</td>\n",
       "    </tr>\n",
       "    <tr>\n",
       "      <th>2</th>\n",
       "      <td>3.903191</td>\n",
       "    </tr>\n",
       "    <tr>\n",
       "      <th>3</th>\n",
       "      <td>3.882751</td>\n",
       "    </tr>\n",
       "    <tr>\n",
       "      <th>4</th>\n",
       "      <td>3.862312</td>\n",
       "    </tr>\n",
       "  </tbody>\n",
       "</table>\n",
       "</div>"
      ],
      "text/plain": [
       "   Force (N)\n",
       "0   4.013054\n",
       "1   3.977287\n",
       "2   3.903191\n",
       "3   3.882751\n",
       "4   3.862312"
      ]
     },
     "execution_count": 3,
     "metadata": {},
     "output_type": "execute_result"
    }
   ],
   "source": [
    "sitting_data.head()"
   ]
  },
  {
   "cell_type": "code",
   "execution_count": 4,
   "metadata": {},
   "outputs": [],
   "source": [
    "mean = [statistics.mean(sitting_data['Force (N)']), statistics.mean(standing_data['Force (N)']),statistics.mean(walking_data['Force (N)'])]"
   ]
  },
  {
   "cell_type": "code",
   "execution_count": 5,
   "metadata": {},
   "outputs": [],
   "source": [
    "variance = [statistics.variance(sitting_data['Force (N)']),statistics.variance(standing_data['Force (N)']),statistics.variance(walking_data['Force (N)'])]"
   ]
  },
  {
   "cell_type": "code",
   "execution_count": 6,
   "metadata": {},
   "outputs": [
    {
     "name": "stdout",
     "output_type": "stream",
     "text": [
      "[3.0191525700887043, 5.121795862833659, 7.124916610717773]\n",
      "[0.22500154437870737, 2.4457547060344678, 6.8334862244644565]\n"
     ]
    }
   ],
   "source": [
    "print(mean)\n",
    "print(variance)"
   ]
  },
  {
   "cell_type": "code",
   "execution_count": 7,
   "metadata": {},
   "outputs": [],
   "source": [
    "sigma = []\n",
    "for i in range(0,len(variance)):\n",
    "    sigma1 = math.sqrt(variance[i])\n",
    "    sigma.append(sigma1)"
   ]
  },
  {
   "cell_type": "code",
   "execution_count": 8,
   "metadata": {},
   "outputs": [
    {
     "data": {
      "text/plain": [
       "Text(0, 0.5, 'Probability Density')"
      ]
     },
     "execution_count": 8,
     "metadata": {},
     "output_type": "execute_result"
    },
    {
     "data": {
      "image/png": "[encoded data removed]",
      "text/plain": [
       "<Figure size 432x288 with 1 Axes>"
      ]
     },
     "metadata": {
      "needs_background": "light"
     },
     "output_type": "display_data"
    }
   ],
   "source": [
    "plt.plot(sitting_data['Force (N)'], norm.pdf(sitting_data['Force (N)'],mean[0],sigma[0]))\n",
    "plt.plot(standing_data['Force (N)'], norm.pdf(standing_data['Force (N)'],mean[1],sigma[1]))\n",
    "plt.plot(walking_data['Force (N)'], norm.pdf(walking_data['Force (N)'],mean[2],sigma[2]))\n",
    "plt.legend(('Sitting','Standing','Walking'))\n",
    "plt.xlabel('Forces(N)')  \n",
    "plt.ylabel('Probability Density')"
   ]
  },
  {
   "cell_type": "code",
   "execution_count": 9,
   "metadata": {},
   "outputs": [
    {
     "data": {
      "text/plain": [
       "Text(0, 0.5, 'Probability Density')"
      ]
     },
     "execution_count": 9,
     "metadata": {},
     "output_type": "execute_result"
    },
    {
     "data": {
      "image/png": "[encoded data removed]",
      "text/plain": [
       "<Figure size 432x288 with 1 Axes>"
      ]
     },
     "metadata": {
      "needs_background": "light"
     },
     "output_type": "display_data"
    }
   ],
   "source": [
    "plt.hist(sitting_data['Force (N)'],alpha=0.3 )\n",
    "plt.hist(standing_data['Force (N)'], alpha=0.3)\n",
    "plt.hist(walking_data['Force (N)'], alpha=0.3)\n",
    "plt.legend(('Sitting','Standing','Walking'))\n",
    "plt.xlabel('Forces(N)')  \n",
    "plt.ylabel('Probability Density')"
   ]
  },
  {
   "cell_type": "code",
   "execution_count": 10,
   "metadata": {},
   "outputs": [
    {
     "name": "stdout",
     "output_type": "stream",
     "text": [
      "(3000, 1)\n",
      "(3000, 1)\n",
      "(3000, 1)\n"
     ]
    }
   ],
   "source": [
    "print(sitting_data.shape)\n",
    "print(standing_data.shape)\n",
    "print(walking_data.shape)"
   ]
  },
  {
   "cell_type": "code",
   "execution_count": 11,
   "metadata": {},
   "outputs": [],
   "source": [
    "batch_size = 1\n",
    "number_classes = 10\n",
    "epochs = 100"
   ]
  },
  {
   "cell_type": "code",
   "execution_count": 12,
   "metadata": {},
   "outputs": [],
   "source": [
    "# Fix random seed for reproducibility\n",
    "np.random.seed(7)\n",
    "# Load dataset\n",
    "sitting_set = sitting_data.values\n",
    "standing_set = standing_data.values\n",
    "walking_set = walking_data.values"
   ]
  },
  {
   "cell_type": "code",
   "execution_count": 13,
   "metadata": {},
   "outputs": [],
   "source": [
    "# normalize the datasets\n",
    "scaler = MinMaxScaler(feature_range=(0,1))\n",
    "sitting_set = scaler.fit_transform(sitting_set)\n",
    "standing_set = scaler.fit_transform(standing_set)\n",
    "walking_set = scaler.fit_transform(walking_set)"
   ]
  },
  {
   "cell_type": "code",
   "execution_count": 14,
   "metadata": {},
   "outputs": [],
   "source": [
    "#Split into training set and test set\n",
    "train_size = int(len(sitting_set) * 0.80)\n",
    "test_size = len(sitting_set) - train_size\n",
    "train_sitting, test_sitting = sitting_set[0:train_size,:], sitting_set[train_size:len(sitting_set),:]\n",
    "train_standing, test_standing = standing_set[0:train_size,:], standing_set[train_size:len(standing_set),:]\n",
    "train_walking, test_walking = walking_set[0:train_size,:], walking_set[train_size:len(walking_set),:]"
   ]
  },
  {
   "cell_type": "code",
   "execution_count": 15,
   "metadata": {},
   "outputs": [],
   "source": [
    "# Comvert an array of values into a dataset matrix\n",
    "def create_dataset(dataset, look_back=1):\n",
    "    dataX, dataY = [], []\n",
    "    for i in range(len(dataset)-look_back-1):\n",
    "        temp = dataset[i:(i+look_back), 0]\n",
    "        dataX.append(temp)\n",
    "        dataY.append(dataset[i + look_back, 0])\n",
    "    return np.array(dataX), np.array(dataY)"
   ]
  },
  {
   "cell_type": "code",
   "execution_count": 16,
   "metadata": {},
   "outputs": [],
   "source": [
    "#Reshape for training into X=t and Y=t+1 as [sample, features]\n",
    "train_sitting_X, train_sitting_Y = create_dataset(train_sitting)\n",
    "train_standing_X, train_standing_Y = create_dataset(train_standing)\n",
    "train_walking_X, train_walking_Y = create_dataset(train_walking)"
   ]
  },
  {
   "cell_type": "code",
   "execution_count": 17,
   "metadata": {},
   "outputs": [],
   "source": [
    "# Reshape tesing [sample, features]\n",
    "test_sitting_X, test_sitting_Y = create_dataset(test_sitting)\n",
    "test_standing_X, test_standing_Y = create_dataset(test_standing)\n",
    "test_walking_X, test_walking_Y = create_dataset(test_walking)"
   ]
  },
  {
   "cell_type": "code",
   "execution_count": 18,
   "metadata": {},
   "outputs": [],
   "source": [
    "# Now reshape to be [samples, time steps, features] for the X_axis for training data\n",
    "train_sitting_X = np.reshape(train_sitting_X, (train_sitting_X.shape[0], 1, train_sitting_X.shape[1]))\n",
    "train_standing_X = np.reshape(train_standing_X, (train_standing_X.shape[0], 1, train_standing_X.shape[1]))\n",
    "train_walking_X = np.reshape(train_walking_X, (train_walking_X.shape[0], 1, train_walking_X.shape[1]))"
   ]
  },
  {
   "cell_type": "code",
   "execution_count": 19,
   "metadata": {},
   "outputs": [],
   "source": [
    "# Now reshape to be [samples, time steps, features] for the X_axis for test data\n",
    "test_sitting_X = np.reshape(test_sitting_X, (test_sitting_X.shape[0], 1, test_sitting_X.shape[1]))\n",
    "test_standing_X = np.reshape(test_standing_X, (test_standing_X.shape[0], 1, test_standing_X.shape[1]))\n",
    "test_walking_X = np.reshape(test_walking_X, (test_walking_X.shape[0], 1, test_walking_X.shape[1]))"
   ]
  },
  {
   "cell_type": "code",
   "execution_count": 20,
   "metadata": {},
   "outputs": [],
   "source": [
    "timed = keras.callbacks.EarlyStopping(monitor=\"val_acc\", patience = 0, verbose=1)"
   ]
  },
  {
   "cell_type": "code",
   "execution_count": 21,
   "metadata": {},
   "outputs": [
    {
     "name": "stdout",
     "output_type": "stream",
     "text": [
      "Epoch 1/100\n",
      "WARNING:tensorflow:Early stopping conditioned on metric `val_acc` which is not available. Available metrics are: loss,accuracy,val_loss,val_accuracy\n",
      "2398/2398 - 14s - loss: 0.0196 - accuracy: 0.0000e+00 - val_loss: 0.0023 - val_accuracy: 0.0000e+00\n",
      "Epoch 2/100\n",
      "WARNING:tensorflow:Early stopping conditioned on metric `val_acc` which is not available. Available metrics are: loss,accuracy,val_loss,val_accuracy\n",
      "2398/2398 - 6s - loss: 5.1975e-04 - accuracy: 0.0000e+00 - val_loss: 2.3876e-04 - val_accuracy: 0.0000e+00\n",
      "Epoch 3/100\n",
      "WARNING:tensorflow:Early stopping conditioned on metric `val_acc` which is not available. Available metrics are: loss,accuracy,val_loss,val_accuracy\n",
      "2398/2398 - 7s - loss: 2.5076e-04 - accuracy: 0.0000e+00 - val_loss: 2.3468e-04 - val_accuracy: 0.0000e+00\n",
      "Epoch 4/100\n",
      "WARNING:tensorflow:Early stopping conditioned on metric `val_acc` which is not available. Available metrics are: loss,accuracy,val_loss,val_accuracy\n",
      "2398/2398 - 6s - loss: 2.5538e-04 - accuracy: 0.0000e+00 - val_loss: 2.7231e-04 - val_accuracy: 0.0000e+00\n",
      "Epoch 5/100\n",
      "WARNING:tensorflow:Early stopping conditioned on metric `val_acc` which is not available. Available metrics are: loss,accuracy,val_loss,val_accuracy\n",
      "2398/2398 - 7s - loss: 2.5494e-04 - accuracy: 0.0000e+00 - val_loss: 2.4482e-04 - val_accuracy: 0.0000e+00\n",
      "Epoch 6/100\n",
      "WARNING:tensorflow:Early stopping conditioned on metric `val_acc` which is not available. Available metrics are: loss,accuracy,val_loss,val_accuracy\n",
      "2398/2398 - 7s - loss: 2.5828e-04 - accuracy: 0.0000e+00 - val_loss: 2.5849e-04 - val_accuracy: 0.0000e+00\n",
      "Epoch 7/100\n",
      "WARNING:tensorflow:Early stopping conditioned on metric `val_acc` which is not available. Available metrics are: loss,accuracy,val_loss,val_accuracy\n",
      "2398/2398 - 7s - loss: 2.4784e-04 - accuracy: 0.0000e+00 - val_loss: 2.5583e-04 - val_accuracy: 0.0000e+00\n",
      "Epoch 8/100\n",
      "WARNING:tensorflow:Early stopping conditioned on metric `val_acc` which is not available. Available metrics are: loss,accuracy,val_loss,val_accuracy\n",
      "2398/2398 - 8s - loss: 2.4883e-04 - accuracy: 0.0000e+00 - val_loss: 2.5900e-04 - val_accuracy: 0.0000e+00\n",
      "Epoch 9/100\n",
      "WARNING:tensorflow:Early stopping conditioned on metric `val_acc` which is not available. Available metrics are: loss,accuracy,val_loss,val_accuracy\n",
      "2398/2398 - 6s - loss: 2.4966e-04 - accuracy: 0.0000e+00 - val_loss: 2.2990e-04 - val_accuracy: 0.0000e+00\n",
      "Epoch 10/100\n",
      "WARNING:tensorflow:Early stopping conditioned on metric `val_acc` which is not available. Available metrics are: loss,accuracy,val_loss,val_accuracy\n",
      "2398/2398 - 7s - loss: 2.5032e-04 - accuracy: 0.0000e+00 - val_loss: 2.2837e-04 - val_accuracy: 0.0000e+00\n",
      "Epoch 11/100\n",
      "WARNING:tensorflow:Early stopping conditioned on metric `val_acc` which is not available. Available metrics are: loss,accuracy,val_loss,val_accuracy\n",
      "2398/2398 - 6s - loss: 2.4954e-04 - accuracy: 0.0000e+00 - val_loss: 2.2858e-04 - val_accuracy: 0.0000e+00\n",
      "Epoch 12/100\n",
      "WARNING:tensorflow:Early stopping conditioned on metric `val_acc` which is not available. Available metrics are: loss,accuracy,val_loss,val_accuracy\n",
      "2398/2398 - 6s - loss: 2.5162e-04 - accuracy: 0.0000e+00 - val_loss: 2.8108e-04 - val_accuracy: 0.0000e+00\n",
      "Epoch 13/100\n",
      "WARNING:tensorflow:Early stopping conditioned on metric `val_acc` which is not available. Available metrics are: loss,accuracy,val_loss,val_accuracy\n",
      "2398/2398 - 7s - loss: 2.4526e-04 - accuracy: 0.0000e+00 - val_loss: 2.7493e-04 - val_accuracy: 0.0000e+00\n",
      "Epoch 14/100\n",
      "WARNING:tensorflow:Early stopping conditioned on metric `val_acc` which is not available. Available metrics are: loss,accuracy,val_loss,val_accuracy\n",
      "2398/2398 - 9s - loss: 2.4629e-04 - accuracy: 0.0000e+00 - val_loss: 2.3475e-04 - val_accuracy: 0.0000e+00\n",
      "Epoch 15/100\n",
      "WARNING:tensorflow:Early stopping conditioned on metric `val_acc` which is not available. Available metrics are: loss,accuracy,val_loss,val_accuracy\n",
      "2398/2398 - 15s - loss: 2.4481e-04 - accuracy: 0.0000e+00 - val_loss: 2.3834e-04 - val_accuracy: 0.0000e+00\n",
      "Epoch 16/100\n",
      "WARNING:tensorflow:Early stopping conditioned on metric `val_acc` which is not available. Available metrics are: loss,accuracy,val_loss,val_accuracy\n",
      "2398/2398 - 16s - loss: 2.4435e-04 - accuracy: 0.0000e+00 - val_loss: 2.3063e-04 - val_accuracy: 0.0000e+00\n",
      "Epoch 17/100\n",
      "WARNING:tensorflow:Early stopping conditioned on metric `val_acc` which is not available. Available metrics are: loss,accuracy,val_loss,val_accuracy\n",
      "2398/2398 - 16s - loss: 2.4492e-04 - accuracy: 0.0000e+00 - val_loss: 2.2592e-04 - val_accuracy: 0.0000e+00\n",
      "Epoch 18/100\n",
      "WARNING:tensorflow:Early stopping conditioned on metric `val_acc` which is not available. Available metrics are: loss,accuracy,val_loss,val_accuracy\n",
      "2398/2398 - 16s - loss: 2.4474e-04 - accuracy: 0.0000e+00 - val_loss: 2.3890e-04 - val_accuracy: 0.0000e+00\n",
      "Epoch 19/100\n",
      "WARNING:tensorflow:Early stopping conditioned on metric `val_acc` which is not available. Available metrics are: loss,accuracy,val_loss,val_accuracy\n",
      "2398/2398 - 6s - loss: 2.3773e-04 - accuracy: 0.0000e+00 - val_loss: 2.2178e-04 - val_accuracy: 0.0000e+00\n",
      "Epoch 20/100\n",
      "WARNING:tensorflow:Early stopping conditioned on metric `val_acc` which is not available. Available metrics are: loss,accuracy,val_loss,val_accuracy\n",
      "2398/2398 - 6s - loss: 2.4270e-04 - accuracy: 0.0000e+00 - val_loss: 2.2777e-04 - val_accuracy: 0.0000e+00\n",
      "Epoch 21/100\n",
      "WARNING:tensorflow:Early stopping conditioned on metric `val_acc` which is not available. Available metrics are: loss,accuracy,val_loss,val_accuracy\n",
      "2398/2398 - 6s - loss: 2.4061e-04 - accuracy: 0.0000e+00 - val_loss: 2.2627e-04 - val_accuracy: 0.0000e+00\n",
      "Epoch 22/100\n",
      "WARNING:tensorflow:Early stopping conditioned on metric `val_acc` which is not available. Available metrics are: loss,accuracy,val_loss,val_accuracy\n",
      "2398/2398 - 6s - loss: 2.4234e-04 - accuracy: 0.0000e+00 - val_loss: 2.2514e-04 - val_accuracy: 0.0000e+00\n",
      "Epoch 23/100\n",
      "WARNING:tensorflow:Early stopping conditioned on metric `val_acc` which is not available. Available metrics are: loss,accuracy,val_loss,val_accuracy\n",
      "2398/2398 - 6s - loss: 2.4128e-04 - accuracy: 0.0000e+00 - val_loss: 2.3064e-04 - val_accuracy: 0.0000e+00\n",
      "Epoch 24/100\n",
      "WARNING:tensorflow:Early stopping conditioned on metric `val_acc` which is not available. Available metrics are: loss,accuracy,val_loss,val_accuracy\n",
      "2398/2398 - 6s - loss: 2.4386e-04 - accuracy: 0.0000e+00 - val_loss: 2.4548e-04 - val_accuracy: 0.0000e+00\n",
      "Epoch 25/100\n",
      "WARNING:tensorflow:Early stopping conditioned on metric `val_acc` which is not available. Available metrics are: loss,accuracy,val_loss,val_accuracy\n",
      "2398/2398 - 6s - loss: 2.4372e-04 - accuracy: 0.0000e+00 - val_loss: 2.2372e-04 - val_accuracy: 0.0000e+00\n",
      "Epoch 26/100\n",
      "WARNING:tensorflow:Early stopping conditioned on metric `val_acc` which is not available. Available metrics are: loss,accuracy,val_loss,val_accuracy\n",
      "2398/2398 - 6s - loss: 2.4127e-04 - accuracy: 0.0000e+00 - val_loss: 2.2715e-04 - val_accuracy: 0.0000e+00\n",
      "Epoch 27/100\n",
      "WARNING:tensorflow:Early stopping conditioned on metric `val_acc` which is not available. Available metrics are: loss,accuracy,val_loss,val_accuracy\n",
      "2398/2398 - 6s - loss: 2.3868e-04 - accuracy: 0.0000e+00 - val_loss: 2.2112e-04 - val_accuracy: 0.0000e+00\n",
      "Epoch 28/100\n",
      "WARNING:tensorflow:Early stopping conditioned on metric `val_acc` which is not available. Available metrics are: loss,accuracy,val_loss,val_accuracy\n",
      "2398/2398 - 6s - loss: 2.3884e-04 - accuracy: 0.0000e+00 - val_loss: 2.6287e-04 - val_accuracy: 0.0000e+00\n",
      "Epoch 29/100\n",
      "WARNING:tensorflow:Early stopping conditioned on metric `val_acc` which is not available. Available metrics are: loss,accuracy,val_loss,val_accuracy\n",
      "2398/2398 - 6s - loss: 2.3907e-04 - accuracy: 0.0000e+00 - val_loss: 2.2505e-04 - val_accuracy: 0.0000e+00\n",
      "Epoch 30/100\n",
      "WARNING:tensorflow:Early stopping conditioned on metric `val_acc` which is not available. Available metrics are: loss,accuracy,val_loss,val_accuracy\n",
      "2398/2398 - 6s - loss: 2.4222e-04 - accuracy: 0.0000e+00 - val_loss: 2.2189e-04 - val_accuracy: 0.0000e+00\n",
      "Epoch 31/100\n",
      "WARNING:tensorflow:Early stopping conditioned on metric `val_acc` which is not available. Available metrics are: loss,accuracy,val_loss,val_accuracy\n"
     ]
    },
    {
     "name": "stdout",
     "output_type": "stream",
     "text": [
      "2398/2398 - 6s - loss: 2.3873e-04 - accuracy: 0.0000e+00 - val_loss: 2.2429e-04 - val_accuracy: 0.0000e+00\n",
      "Epoch 32/100\n",
      "WARNING:tensorflow:Early stopping conditioned on metric `val_acc` which is not available. Available metrics are: loss,accuracy,val_loss,val_accuracy\n",
      "2398/2398 - 7s - loss: 2.4148e-04 - accuracy: 0.0000e+00 - val_loss: 2.2723e-04 - val_accuracy: 0.0000e+00\n",
      "Epoch 33/100\n",
      "WARNING:tensorflow:Early stopping conditioned on metric `val_acc` which is not available. Available metrics are: loss,accuracy,val_loss,val_accuracy\n",
      "2398/2398 - 8s - loss: 2.3892e-04 - accuracy: 0.0000e+00 - val_loss: 2.2243e-04 - val_accuracy: 0.0000e+00\n",
      "Epoch 34/100\n",
      "WARNING:tensorflow:Early stopping conditioned on metric `val_acc` which is not available. Available metrics are: loss,accuracy,val_loss,val_accuracy\n",
      "2398/2398 - 12s - loss: 2.3790e-04 - accuracy: 0.0000e+00 - val_loss: 2.1925e-04 - val_accuracy: 0.0000e+00\n",
      "Epoch 35/100\n",
      "WARNING:tensorflow:Early stopping conditioned on metric `val_acc` which is not available. Available metrics are: loss,accuracy,val_loss,val_accuracy\n",
      "2398/2398 - 16s - loss: 2.4392e-04 - accuracy: 0.0000e+00 - val_loss: 2.6329e-04 - val_accuracy: 0.0000e+00\n",
      "Epoch 36/100\n",
      "WARNING:tensorflow:Early stopping conditioned on metric `val_acc` which is not available. Available metrics are: loss,accuracy,val_loss,val_accuracy\n",
      "2398/2398 - 16s - loss: 2.3892e-04 - accuracy: 0.0000e+00 - val_loss: 2.3542e-04 - val_accuracy: 0.0000e+00\n",
      "Epoch 37/100\n",
      "WARNING:tensorflow:Early stopping conditioned on metric `val_acc` which is not available. Available metrics are: loss,accuracy,val_loss,val_accuracy\n",
      "2398/2398 - 15s - loss: 2.3837e-04 - accuracy: 0.0000e+00 - val_loss: 2.6492e-04 - val_accuracy: 0.0000e+00\n",
      "Epoch 38/100\n",
      "WARNING:tensorflow:Early stopping conditioned on metric `val_acc` which is not available. Available metrics are: loss,accuracy,val_loss,val_accuracy\n",
      "2398/2398 - 6s - loss: 2.3924e-04 - accuracy: 0.0000e+00 - val_loss: 2.6977e-04 - val_accuracy: 0.0000e+00\n",
      "Epoch 39/100\n",
      "WARNING:tensorflow:Early stopping conditioned on metric `val_acc` which is not available. Available metrics are: loss,accuracy,val_loss,val_accuracy\n",
      "2398/2398 - 6s - loss: 2.3615e-04 - accuracy: 0.0000e+00 - val_loss: 2.5805e-04 - val_accuracy: 0.0000e+00\n",
      "Epoch 40/100\n",
      "WARNING:tensorflow:Early stopping conditioned on metric `val_acc` which is not available. Available metrics are: loss,accuracy,val_loss,val_accuracy\n",
      "2398/2398 - 6s - loss: 2.4158e-04 - accuracy: 0.0000e+00 - val_loss: 2.2451e-04 - val_accuracy: 0.0000e+00\n",
      "Epoch 41/100\n",
      "WARNING:tensorflow:Early stopping conditioned on metric `val_acc` which is not available. Available metrics are: loss,accuracy,val_loss,val_accuracy\n",
      "2398/2398 - 6s - loss: 2.3382e-04 - accuracy: 0.0000e+00 - val_loss: 2.1772e-04 - val_accuracy: 0.0000e+00\n",
      "Epoch 42/100\n",
      "WARNING:tensorflow:Early stopping conditioned on metric `val_acc` which is not available. Available metrics are: loss,accuracy,val_loss,val_accuracy\n",
      "2398/2398 - 6s - loss: 2.4192e-04 - accuracy: 0.0000e+00 - val_loss: 2.3841e-04 - val_accuracy: 0.0000e+00\n",
      "Epoch 43/100\n",
      "WARNING:tensorflow:Early stopping conditioned on metric `val_acc` which is not available. Available metrics are: loss,accuracy,val_loss,val_accuracy\n",
      "2398/2398 - 6s - loss: 2.3724e-04 - accuracy: 0.0000e+00 - val_loss: 2.2096e-04 - val_accuracy: 0.0000e+00\n",
      "Epoch 44/100\n",
      "WARNING:tensorflow:Early stopping conditioned on metric `val_acc` which is not available. Available metrics are: loss,accuracy,val_loss,val_accuracy\n",
      "2398/2398 - 6s - loss: 2.3576e-04 - accuracy: 0.0000e+00 - val_loss: 2.3856e-04 - val_accuracy: 0.0000e+00\n",
      "Epoch 45/100\n",
      "WARNING:tensorflow:Early stopping conditioned on metric `val_acc` which is not available. Available metrics are: loss,accuracy,val_loss,val_accuracy\n",
      "2398/2398 - 6s - loss: 2.3571e-04 - accuracy: 0.0000e+00 - val_loss: 2.1616e-04 - val_accuracy: 0.0000e+00\n",
      "Epoch 46/100\n",
      "WARNING:tensorflow:Early stopping conditioned on metric `val_acc` which is not available. Available metrics are: loss,accuracy,val_loss,val_accuracy\n",
      "2398/2398 - 6s - loss: 2.4129e-04 - accuracy: 0.0000e+00 - val_loss: 2.1979e-04 - val_accuracy: 0.0000e+00\n",
      "Epoch 47/100\n",
      "WARNING:tensorflow:Early stopping conditioned on metric `val_acc` which is not available. Available metrics are: loss,accuracy,val_loss,val_accuracy\n",
      "2398/2398 - 6s - loss: 2.3420e-04 - accuracy: 0.0000e+00 - val_loss: 2.2582e-04 - val_accuracy: 0.0000e+00\n",
      "Epoch 48/100\n",
      "WARNING:tensorflow:Early stopping conditioned on metric `val_acc` which is not available. Available metrics are: loss,accuracy,val_loss,val_accuracy\n",
      "2398/2398 - 6s - loss: 2.3723e-04 - accuracy: 0.0000e+00 - val_loss: 2.5107e-04 - val_accuracy: 0.0000e+00\n",
      "Epoch 49/100\n",
      "WARNING:tensorflow:Early stopping conditioned on metric `val_acc` which is not available. Available metrics are: loss,accuracy,val_loss,val_accuracy\n",
      "2398/2398 - 6s - loss: 2.3270e-04 - accuracy: 0.0000e+00 - val_loss: 2.1864e-04 - val_accuracy: 0.0000e+00\n",
      "Epoch 50/100\n",
      "WARNING:tensorflow:Early stopping conditioned on metric `val_acc` which is not available. Available metrics are: loss,accuracy,val_loss,val_accuracy\n",
      "2398/2398 - 6s - loss: 2.4054e-04 - accuracy: 0.0000e+00 - val_loss: 2.1792e-04 - val_accuracy: 0.0000e+00\n",
      "Epoch 51/100\n",
      "WARNING:tensorflow:Early stopping conditioned on metric `val_acc` which is not available. Available metrics are: loss,accuracy,val_loss,val_accuracy\n",
      "2398/2398 - 7s - loss: 2.3470e-04 - accuracy: 0.0000e+00 - val_loss: 2.7127e-04 - val_accuracy: 0.0000e+00\n",
      "Epoch 52/100\n",
      "WARNING:tensorflow:Early stopping conditioned on metric `val_acc` which is not available. Available metrics are: loss,accuracy,val_loss,val_accuracy\n",
      "2398/2398 - 9s - loss: 2.3203e-04 - accuracy: 0.0000e+00 - val_loss: 2.4973e-04 - val_accuracy: 0.0000e+00\n",
      "Epoch 53/100\n",
      "WARNING:tensorflow:Early stopping conditioned on metric `val_acc` which is not available. Available metrics are: loss,accuracy,val_loss,val_accuracy\n",
      "2398/2398 - 14s - loss: 2.3430e-04 - accuracy: 0.0000e+00 - val_loss: 2.1804e-04 - val_accuracy: 0.0000e+00\n",
      "Epoch 54/100\n",
      "WARNING:tensorflow:Early stopping conditioned on metric `val_acc` which is not available. Available metrics are: loss,accuracy,val_loss,val_accuracy\n",
      "2398/2398 - 16s - loss: 2.3598e-04 - accuracy: 0.0000e+00 - val_loss: 2.5084e-04 - val_accuracy: 0.0000e+00\n",
      "Epoch 55/100\n",
      "WARNING:tensorflow:Early stopping conditioned on metric `val_acc` which is not available. Available metrics are: loss,accuracy,val_loss,val_accuracy\n",
      "2398/2398 - 16s - loss: 2.3602e-04 - accuracy: 0.0000e+00 - val_loss: 2.1803e-04 - val_accuracy: 0.0000e+00\n",
      "Epoch 56/100\n",
      "WARNING:tensorflow:Early stopping conditioned on metric `val_acc` which is not available. Available metrics are: loss,accuracy,val_loss,val_accuracy\n",
      "2398/2398 - 16s - loss: 2.3434e-04 - accuracy: 0.0000e+00 - val_loss: 2.1915e-04 - val_accuracy: 0.0000e+00\n",
      "Epoch 57/100\n",
      "WARNING:tensorflow:Early stopping conditioned on metric `val_acc` which is not available. Available metrics are: loss,accuracy,val_loss,val_accuracy\n",
      "2398/2398 - 7s - loss: 2.3552e-04 - accuracy: 0.0000e+00 - val_loss: 2.2298e-04 - val_accuracy: 0.0000e+00\n",
      "Epoch 58/100\n",
      "WARNING:tensorflow:Early stopping conditioned on metric `val_acc` which is not available. Available metrics are: loss,accuracy,val_loss,val_accuracy\n",
      "2398/2398 - 6s - loss: 2.3792e-04 - accuracy: 0.0000e+00 - val_loss: 2.2484e-04 - val_accuracy: 0.0000e+00\n",
      "Epoch 59/100\n",
      "WARNING:tensorflow:Early stopping conditioned on metric `val_acc` which is not available. Available metrics are: loss,accuracy,val_loss,val_accuracy\n",
      "2398/2398 - 6s - loss: 2.3320e-04 - accuracy: 0.0000e+00 - val_loss: 2.1835e-04 - val_accuracy: 0.0000e+00\n",
      "Epoch 60/100\n",
      "WARNING:tensorflow:Early stopping conditioned on metric `val_acc` which is not available. Available metrics are: loss,accuracy,val_loss,val_accuracy\n",
      "2398/2398 - 6s - loss: 2.3659e-04 - accuracy: 0.0000e+00 - val_loss: 2.1365e-04 - val_accuracy: 0.0000e+00\n",
      "Epoch 61/100\n",
      "WARNING:tensorflow:Early stopping conditioned on metric `val_acc` which is not available. Available metrics are: loss,accuracy,val_loss,val_accuracy\n",
      "2398/2398 - 6s - loss: 2.3694e-04 - accuracy: 0.0000e+00 - val_loss: 2.2441e-04 - val_accuracy: 0.0000e+00\n",
      "Epoch 62/100\n"
     ]
    },
    {
     "name": "stdout",
     "output_type": "stream",
     "text": [
      "WARNING:tensorflow:Early stopping conditioned on metric `val_acc` which is not available. Available metrics are: loss,accuracy,val_loss,val_accuracy\n",
      "2398/2398 - 6s - loss: 2.3463e-04 - accuracy: 0.0000e+00 - val_loss: 2.3874e-04 - val_accuracy: 0.0000e+00\n",
      "Epoch 63/100\n",
      "WARNING:tensorflow:Early stopping conditioned on metric `val_acc` which is not available. Available metrics are: loss,accuracy,val_loss,val_accuracy\n",
      "2398/2398 - 6s - loss: 2.3469e-04 - accuracy: 0.0000e+00 - val_loss: 2.3562e-04 - val_accuracy: 0.0000e+00\n",
      "Epoch 64/100\n",
      "WARNING:tensorflow:Early stopping conditioned on metric `val_acc` which is not available. Available metrics are: loss,accuracy,val_loss,val_accuracy\n",
      "2398/2398 - 6s - loss: 2.3270e-04 - accuracy: 0.0000e+00 - val_loss: 2.2103e-04 - val_accuracy: 0.0000e+00\n",
      "Epoch 65/100\n",
      "WARNING:tensorflow:Early stopping conditioned on metric `val_acc` which is not available. Available metrics are: loss,accuracy,val_loss,val_accuracy\n",
      "2398/2398 - 6s - loss: 2.3800e-04 - accuracy: 0.0000e+00 - val_loss: 2.1491e-04 - val_accuracy: 0.0000e+00\n",
      "Epoch 66/100\n",
      "WARNING:tensorflow:Early stopping conditioned on metric `val_acc` which is not available. Available metrics are: loss,accuracy,val_loss,val_accuracy\n",
      "2398/2398 - 6s - loss: 2.3570e-04 - accuracy: 0.0000e+00 - val_loss: 2.5441e-04 - val_accuracy: 0.0000e+00\n",
      "Epoch 67/100\n",
      "WARNING:tensorflow:Early stopping conditioned on metric `val_acc` which is not available. Available metrics are: loss,accuracy,val_loss,val_accuracy\n",
      "2398/2398 - 6s - loss: 2.3343e-04 - accuracy: 0.0000e+00 - val_loss: 2.9010e-04 - val_accuracy: 0.0000e+00\n",
      "Epoch 68/100\n",
      "WARNING:tensorflow:Early stopping conditioned on metric `val_acc` which is not available. Available metrics are: loss,accuracy,val_loss,val_accuracy\n",
      "2398/2398 - 6s - loss: 2.3387e-04 - accuracy: 0.0000e+00 - val_loss: 2.4989e-04 - val_accuracy: 0.0000e+00\n",
      "Epoch 69/100\n",
      "WARNING:tensorflow:Early stopping conditioned on metric `val_acc` which is not available. Available metrics are: loss,accuracy,val_loss,val_accuracy\n",
      "2398/2398 - 6s - loss: 2.3205e-04 - accuracy: 0.0000e+00 - val_loss: 2.2115e-04 - val_accuracy: 0.0000e+00\n",
      "Epoch 70/100\n",
      "WARNING:tensorflow:Early stopping conditioned on metric `val_acc` which is not available. Available metrics are: loss,accuracy,val_loss,val_accuracy\n",
      "2398/2398 - 7s - loss: 2.3368e-04 - accuracy: 0.0000e+00 - val_loss: 2.5466e-04 - val_accuracy: 0.0000e+00\n",
      "Epoch 71/100\n",
      "WARNING:tensorflow:Early stopping conditioned on metric `val_acc` which is not available. Available metrics are: loss,accuracy,val_loss,val_accuracy\n",
      "2398/2398 - 9s - loss: 2.3172e-04 - accuracy: 0.0000e+00 - val_loss: 2.2805e-04 - val_accuracy: 0.0000e+00\n",
      "Epoch 72/100\n",
      "WARNING:tensorflow:Early stopping conditioned on metric `val_acc` which is not available. Available metrics are: loss,accuracy,val_loss,val_accuracy\n",
      "2398/2398 - 12s - loss: 2.3218e-04 - accuracy: 0.0000e+00 - val_loss: 2.4013e-04 - val_accuracy: 0.0000e+00\n",
      "Epoch 73/100\n",
      "WARNING:tensorflow:Early stopping conditioned on metric `val_acc` which is not available. Available metrics are: loss,accuracy,val_loss,val_accuracy\n",
      "2398/2398 - 16s - loss: 2.3120e-04 - accuracy: 0.0000e+00 - val_loss: 2.1823e-04 - val_accuracy: 0.0000e+00\n",
      "Epoch 74/100\n",
      "WARNING:tensorflow:Early stopping conditioned on metric `val_acc` which is not available. Available metrics are: loss,accuracy,val_loss,val_accuracy\n",
      "2398/2398 - 16s - loss: 2.3183e-04 - accuracy: 0.0000e+00 - val_loss: 2.5669e-04 - val_accuracy: 0.0000e+00\n",
      "Epoch 75/100\n",
      "WARNING:tensorflow:Early stopping conditioned on metric `val_acc` which is not available. Available metrics are: loss,accuracy,val_loss,val_accuracy\n",
      "2398/2398 - 10s - loss: 2.3083e-04 - accuracy: 0.0000e+00 - val_loss: 2.2425e-04 - val_accuracy: 0.0000e+00\n",
      "Epoch 76/100\n",
      "WARNING:tensorflow:Early stopping conditioned on metric `val_acc` which is not available. Available metrics are: loss,accuracy,val_loss,val_accuracy\n",
      "2398/2398 - 6s - loss: 2.3380e-04 - accuracy: 0.0000e+00 - val_loss: 2.3090e-04 - val_accuracy: 0.0000e+00\n",
      "Epoch 77/100\n",
      "WARNING:tensorflow:Early stopping conditioned on metric `val_acc` which is not available. Available metrics are: loss,accuracy,val_loss,val_accuracy\n",
      "2398/2398 - 6s - loss: 2.3248e-04 - accuracy: 0.0000e+00 - val_loss: 2.6646e-04 - val_accuracy: 0.0000e+00\n",
      "Epoch 78/100\n",
      "WARNING:tensorflow:Early stopping conditioned on metric `val_acc` which is not available. Available metrics are: loss,accuracy,val_loss,val_accuracy\n",
      "2398/2398 - 6s - loss: 2.3102e-04 - accuracy: 0.0000e+00 - val_loss: 2.1111e-04 - val_accuracy: 0.0000e+00\n",
      "Epoch 79/100\n",
      "WARNING:tensorflow:Early stopping conditioned on metric `val_acc` which is not available. Available metrics are: loss,accuracy,val_loss,val_accuracy\n",
      "2398/2398 - 6s - loss: 2.3236e-04 - accuracy: 0.0000e+00 - val_loss: 2.1434e-04 - val_accuracy: 0.0000e+00\n",
      "Epoch 80/100\n",
      "WARNING:tensorflow:Early stopping conditioned on metric `val_acc` which is not available. Available metrics are: loss,accuracy,val_loss,val_accuracy\n",
      "2398/2398 - 6s - loss: 2.3249e-04 - accuracy: 0.0000e+00 - val_loss: 2.1200e-04 - val_accuracy: 0.0000e+00\n",
      "Epoch 81/100\n",
      "WARNING:tensorflow:Early stopping conditioned on metric `val_acc` which is not available. Available metrics are: loss,accuracy,val_loss,val_accuracy\n",
      "2398/2398 - 6s - loss: 2.2948e-04 - accuracy: 0.0000e+00 - val_loss: 2.1155e-04 - val_accuracy: 0.0000e+00\n",
      "Epoch 82/100\n",
      "WARNING:tensorflow:Early stopping conditioned on metric `val_acc` which is not available. Available metrics are: loss,accuracy,val_loss,val_accuracy\n",
      "2398/2398 - 6s - loss: 2.3270e-04 - accuracy: 0.0000e+00 - val_loss: 2.2341e-04 - val_accuracy: 0.0000e+00\n",
      "Epoch 83/100\n",
      "WARNING:tensorflow:Early stopping conditioned on metric `val_acc` which is not available. Available metrics are: loss,accuracy,val_loss,val_accuracy\n",
      "2398/2398 - 6s - loss: 2.3071e-04 - accuracy: 0.0000e+00 - val_loss: 3.0477e-04 - val_accuracy: 0.0000e+00\n",
      "Epoch 84/100\n",
      "WARNING:tensorflow:Early stopping conditioned on metric `val_acc` which is not available. Available metrics are: loss,accuracy,val_loss,val_accuracy\n",
      "2398/2398 - 6s - loss: 2.3356e-04 - accuracy: 0.0000e+00 - val_loss: 2.1608e-04 - val_accuracy: 0.0000e+00\n",
      "Epoch 85/100\n",
      "WARNING:tensorflow:Early stopping conditioned on metric `val_acc` which is not available. Available metrics are: loss,accuracy,val_loss,val_accuracy\n",
      "2398/2398 - 6s - loss: 2.2920e-04 - accuracy: 0.0000e+00 - val_loss: 2.6681e-04 - val_accuracy: 0.0000e+00\n",
      "Epoch 86/100\n",
      "WARNING:tensorflow:Early stopping conditioned on metric `val_acc` which is not available. Available metrics are: loss,accuracy,val_loss,val_accuracy\n",
      "2398/2398 - 6s - loss: 2.2972e-04 - accuracy: 0.0000e+00 - val_loss: 2.1210e-04 - val_accuracy: 0.0000e+00\n",
      "Epoch 87/100\n",
      "WARNING:tensorflow:Early stopping conditioned on metric `val_acc` which is not available. Available metrics are: loss,accuracy,val_loss,val_accuracy\n",
      "2398/2398 - 6s - loss: 2.3311e-04 - accuracy: 0.0000e+00 - val_loss: 2.6534e-04 - val_accuracy: 0.0000e+00\n",
      "Epoch 88/100\n",
      "WARNING:tensorflow:Early stopping conditioned on metric `val_acc` which is not available. Available metrics are: loss,accuracy,val_loss,val_accuracy\n",
      "2398/2398 - 6s - loss: 2.2747e-04 - accuracy: 0.0000e+00 - val_loss: 2.5393e-04 - val_accuracy: 0.0000e+00\n",
      "Epoch 89/100\n",
      "WARNING:tensorflow:Early stopping conditioned on metric `val_acc` which is not available. Available metrics are: loss,accuracy,val_loss,val_accuracy\n",
      "2398/2398 - 7s - loss: 2.2999e-04 - accuracy: 0.0000e+00 - val_loss: 2.1568e-04 - val_accuracy: 0.0000e+00\n",
      "Epoch 90/100\n",
      "WARNING:tensorflow:Early stopping conditioned on metric `val_acc` which is not available. Available metrics are: loss,accuracy,val_loss,val_accuracy\n",
      "2398/2398 - 9s - loss: 2.3039e-04 - accuracy: 0.0000e+00 - val_loss: 2.1109e-04 - val_accuracy: 0.0000e+00\n",
      "Epoch 91/100\n",
      "WARNING:tensorflow:Early stopping conditioned on metric `val_acc` which is not available. Available metrics are: loss,accuracy,val_loss,val_accuracy\n",
      "2398/2398 - 9s - loss: 2.2798e-04 - accuracy: 0.0000e+00 - val_loss: 2.2995e-04 - val_accuracy: 0.0000e+00\n",
      "Epoch 92/100\n",
      "WARNING:tensorflow:Early stopping conditioned on metric `val_acc` which is not available. Available metrics are: loss,accuracy,val_loss,val_accuracy\n"
     ]
    },
    {
     "name": "stdout",
     "output_type": "stream",
     "text": [
      "2398/2398 - 9s - loss: 2.3145e-04 - accuracy: 0.0000e+00 - val_loss: 2.3215e-04 - val_accuracy: 0.0000e+00\n",
      "Epoch 93/100\n",
      "WARNING:tensorflow:Early stopping conditioned on metric `val_acc` which is not available. Available metrics are: loss,accuracy,val_loss,val_accuracy\n",
      "2398/2398 - 8s - loss: 2.3015e-04 - accuracy: 0.0000e+00 - val_loss: 2.1417e-04 - val_accuracy: 0.0000e+00\n",
      "Epoch 94/100\n",
      "WARNING:tensorflow:Early stopping conditioned on metric `val_acc` which is not available. Available metrics are: loss,accuracy,val_loss,val_accuracy\n",
      "2398/2398 - 8s - loss: 2.3061e-04 - accuracy: 0.0000e+00 - val_loss: 2.1870e-04 - val_accuracy: 0.0000e+00\n",
      "Epoch 95/100\n",
      "WARNING:tensorflow:Early stopping conditioned on metric `val_acc` which is not available. Available metrics are: loss,accuracy,val_loss,val_accuracy\n",
      "2398/2398 - 9s - loss: 2.2859e-04 - accuracy: 0.0000e+00 - val_loss: 2.2111e-04 - val_accuracy: 0.0000e+00\n",
      "Epoch 96/100\n",
      "WARNING:tensorflow:Early stopping conditioned on metric `val_acc` which is not available. Available metrics are: loss,accuracy,val_loss,val_accuracy\n",
      "2398/2398 - 9s - loss: 2.3160e-04 - accuracy: 0.0000e+00 - val_loss: 2.1124e-04 - val_accuracy: 0.0000e+00\n",
      "Epoch 97/100\n",
      "WARNING:tensorflow:Early stopping conditioned on metric `val_acc` which is not available. Available metrics are: loss,accuracy,val_loss,val_accuracy\n",
      "2398/2398 - 9s - loss: 2.2995e-04 - accuracy: 0.0000e+00 - val_loss: 2.7719e-04 - val_accuracy: 0.0000e+00\n",
      "Epoch 98/100\n",
      "WARNING:tensorflow:Early stopping conditioned on metric `val_acc` which is not available. Available metrics are: loss,accuracy,val_loss,val_accuracy\n",
      "2398/2398 - 9s - loss: 2.3075e-04 - accuracy: 0.0000e+00 - val_loss: 2.1163e-04 - val_accuracy: 0.0000e+00\n",
      "Epoch 99/100\n",
      "WARNING:tensorflow:Early stopping conditioned on metric `val_acc` which is not available. Available metrics are: loss,accuracy,val_loss,val_accuracy\n",
      "2398/2398 - 9s - loss: 2.2968e-04 - accuracy: 0.0000e+00 - val_loss: 2.1793e-04 - val_accuracy: 0.0000e+00\n",
      "Epoch 100/100\n",
      "WARNING:tensorflow:Early stopping conditioned on metric `val_acc` which is not available. Available metrics are: loss,accuracy,val_loss,val_accuracy\n",
      "2398/2398 - 9s - loss: 2.2822e-04 - accuracy: 0.0000e+00 - val_loss: 2.3535e-04 - val_accuracy: 0.0000e+00\n"
     ]
    }
   ],
   "source": [
    "# Create and the fit the LSTM network, with 1 visible layer with 1 input and a hitten\n",
    "# layer with 4 LSTM neurons\n",
    "model = Sequential()\n",
    "model.add(LSTM(4, input_shape=(1,1)))\n",
    "model.add(Dense(1))\n",
    "model.compile(loss=\"mean_squared_error\", optimizer=\"adam\",metrics = [\"Accuracy\"])\n",
    "sitting_model = model.fit(train_sitting_X, train_sitting_Y, epochs=epochs, batch_size=batch_size, verbose=2, validation_data=(train_sitting_X, train_sitting_Y), shuffle=True,callbacks=[timed])"
   ]
  },
  {
   "cell_type": "code",
   "execution_count": 22,
   "metadata": {},
   "outputs": [],
   "source": [
    "model.save('lstm_model_sitting.h5')"
   ]
  },
  {
   "cell_type": "code",
   "execution_count": 23,
   "metadata": {},
   "outputs": [],
   "source": [
    "# Make prediction for sitting\n",
    "training_prediction_sitting = model.predict(train_sitting_X)\n",
    "test_prediction_sitting = model.predict(test_sitting_X)\n",
    "# Invert Prediction\n",
    "train_prediction_invert_sitting = scaler.inverse_transform(training_prediction_sitting)\n",
    "train_sitting_Y = scaler.inverse_transform([train_sitting_Y])\n",
    "test_prediction_invert_sitting = scaler.inverse_transform(test_prediction_sitting)\n",
    "test_sitting_Y = scaler.inverse_transform([test_sitting_Y])"
   ]
  },
  {
   "cell_type": "code",
   "execution_count": 24,
   "metadata": {},
   "outputs": [
    {
     "name": "stdout",
     "output_type": "stream",
     "text": [
      "Training Score: 0.23663134241980893\n",
      "Testing Score: 0.2288257869008604\n"
     ]
    }
   ],
   "source": [
    "# Calculating the root error\n",
    "training_score = math.sqrt(mean_squared_error(train_sitting_Y[0],train_prediction_invert_sitting[:,0]))\n",
    "print('Training Score:', (training_score))\n",
    "testing_score = math.sqrt(mean_squared_error(test_sitting_Y[0],test_prediction_invert_sitting[:,0]))\n",
    "print('Testing Score:', (testing_score))"
   ]
  },
  {
   "cell_type": "code",
   "execution_count": 25,
   "metadata": {},
   "outputs": [],
   "source": [
    "# Trained Prediction\n",
    "trainingPredictPlot_sitting = np.empty_like(sitting_set)\n",
    "trainingPredictPlot_sitting[:, :] = np.nan\n",
    "trainingPredictPlot_sitting[1:len(train_prediction_invert_sitting)+1, :] = train_prediction_invert_sitting"
   ]
  },
  {
   "cell_type": "code",
   "execution_count": 26,
   "metadata": {},
   "outputs": [],
   "source": [
    "# Test Prediction\n",
    "testPredictPlot_sitting = np.empty_like(sitting_set)\n",
    "testPredictPlot_sitting[:, :] = np.nan\n",
    "testPredictPlot_sitting[len(train_prediction_invert_sitting)+(1*2)+1:len(sitting_set)-1, :] = test_prediction_invert_sitting"
   ]
  },
  {
   "cell_type": "code",
   "execution_count": 27,
   "metadata": {},
   "outputs": [
    {
     "data": {
      "image/png": "[encoded data removed]",
      "text/plain": [
       "<Figure size 432x288 with 1 Axes>"
      ]
     },
     "metadata": {
      "needs_background": "light"
     },
     "output_type": "display_data"
    }
   ],
   "source": [
    "# Predictions\n",
    "plt.plot(scaler.inverse_transform(sitting_set))\n",
    "plt.plot(trainingPredictPlot_sitting)\n",
    "plt.plot(testPredictPlot_sitting)\n",
    "plt.savefig('sitting_set.png', dpi=500)\n",
    "plt.show()"
   ]
  },
  {
   "cell_type": "code",
   "execution_count": 29,
   "metadata": {},
   "outputs": [],
   "source": [
    "# scores = model.evaluate(test_sitting_X,test_sitting_Y)\n",
    "# print('Loss: %.2f' %scores[0])\n",
    "# print('Accuracy: %0.2f' %scores[1])"
   ]
  },
  {
   "cell_type": "code",
   "execution_count": 30,
   "metadata": {},
   "outputs": [
    {
     "data": {
      "image/png": "[encoded data removed]",
      "text/plain": [
       "<Figure size 432x288 with 1 Axes>"
      ]
     },
     "metadata": {
      "needs_background": "light"
     },
     "output_type": "display_data"
    },
    {
     "data": {
      "image/png": "[encoded data removed]",
      "text/plain": [
       "<Figure size 432x288 with 1 Axes>"
      ]
     },
     "metadata": {
      "needs_background": "light"
     },
     "output_type": "display_data"
    }
   ],
   "source": [
    "pyplot.plot(sitting_model.history['accuracy'])\n",
    "pyplot.plot(sitting_model.history['val_accuracy'])\n",
    "pyplot.title('model accuracy')\n",
    "pyplot.ylabel('accuracy')\n",
    "pyplot.xlabel('epoch')\n",
    "pyplot.legend(['train', 'validation'], loc='upper right')\n",
    "plt.savefig('sitting_set_model_accuracy.png', dpi=500)\n",
    "pyplot.show()\n",
    "pyplot.plot(sitting_model.history['loss'])\n",
    "pyplot.plot(sitting_model.history['val_loss'])\n",
    "pyplot.title('model loss')\n",
    "pyplot.ylabel('loss')\n",
    "pyplot.xlabel('epoch')\n",
    "pyplot.legend(['train', 'validation'], loc='upper right')\n",
    "plt.savefig('sitting_set_model_lost.png', dpi=500)\n",
    "pyplot.show()"
   ]
  },
  {
   "cell_type": "code",
   "execution_count": 31,
   "metadata": {},
   "outputs": [],
   "source": [
    "# Create and the fit the LSTM network, with 1 visible layer with 1 input and a hitten\n",
    "# layer with 4 LSTM neurons\n",
    "model = Sequential()\n",
    "model.add(LSTM(4, input_shape=(1,1)))\n",
    "model.add(Dense(1))\n",
    "model.compile(loss=\"mean_squared_error\", optimizer=\"adam\",metrics = [\"Accuracy\"])"
   ]
  },
  {
   "cell_type": "code",
   "execution_count": 32,
   "metadata": {},
   "outputs": [
    {
     "name": "stdout",
     "output_type": "stream",
     "text": [
      "Epoch 1/100\n",
      "WARNING:tensorflow:Early stopping conditioned on metric `val_acc` which is not available. Available metrics are: loss,accuracy,val_loss,val_accuracy\n",
      "2398/2398 - 7s - loss: 0.0293 - accuracy: 0.0000e+00 - val_loss: 0.0033 - val_accuracy: 0.0000e+00\n",
      "Epoch 2/100\n",
      "WARNING:tensorflow:Early stopping conditioned on metric `val_acc` which is not available. Available metrics are: loss,accuracy,val_loss,val_accuracy\n",
      "2398/2398 - 6s - loss: 7.0097e-04 - accuracy: 0.0000e+00 - val_loss: 2.7208e-04 - val_accuracy: 0.0000e+00\n",
      "Epoch 3/100\n",
      "WARNING:tensorflow:Early stopping conditioned on metric `val_acc` which is not available. Available metrics are: loss,accuracy,val_loss,val_accuracy\n",
      "2398/2398 - 7s - loss: 2.8599e-04 - accuracy: 0.0000e+00 - val_loss: 3.0641e-04 - val_accuracy: 0.0000e+00\n",
      "Epoch 4/100\n",
      "WARNING:tensorflow:Early stopping conditioned on metric `val_acc` which is not available. Available metrics are: loss,accuracy,val_loss,val_accuracy\n",
      "2398/2398 - 6s - loss: 2.7869e-04 - accuracy: 0.0000e+00 - val_loss: 2.4893e-04 - val_accuracy: 0.0000e+00\n",
      "Epoch 5/100\n",
      "WARNING:tensorflow:Early stopping conditioned on metric `val_acc` which is not available. Available metrics are: loss,accuracy,val_loss,val_accuracy\n",
      "2398/2398 - 7s - loss: 2.7226e-04 - accuracy: 0.0000e+00 - val_loss: 2.8887e-04 - val_accuracy: 0.0000e+00\n",
      "Epoch 6/100\n",
      "WARNING:tensorflow:Early stopping conditioned on metric `val_acc` which is not available. Available metrics are: loss,accuracy,val_loss,val_accuracy\n",
      "2398/2398 - 6s - loss: 2.7506e-04 - accuracy: 0.0000e+00 - val_loss: 2.4610e-04 - val_accuracy: 0.0000e+00\n",
      "Epoch 7/100\n",
      "WARNING:tensorflow:Early stopping conditioned on metric `val_acc` which is not available. Available metrics are: loss,accuracy,val_loss,val_accuracy\n",
      "2398/2398 - 6s - loss: 2.7675e-04 - accuracy: 0.0000e+00 - val_loss: 2.5918e-04 - val_accuracy: 0.0000e+00\n",
      "Epoch 8/100\n",
      "WARNING:tensorflow:Early stopping conditioned on metric `val_acc` which is not available. Available metrics are: loss,accuracy,val_loss,val_accuracy\n",
      "2398/2398 - 6s - loss: 2.7213e-04 - accuracy: 0.0000e+00 - val_loss: 2.8496e-04 - val_accuracy: 0.0000e+00\n",
      "Epoch 9/100\n",
      "WARNING:tensorflow:Early stopping conditioned on metric `val_acc` which is not available. Available metrics are: loss,accuracy,val_loss,val_accuracy\n",
      "2398/2398 - 6s - loss: 2.7402e-04 - accuracy: 0.0000e+00 - val_loss: 2.7689e-04 - val_accuracy: 0.0000e+00\n",
      "Epoch 10/100\n",
      "WARNING:tensorflow:Early stopping conditioned on metric `val_acc` which is not available. Available metrics are: loss,accuracy,val_loss,val_accuracy\n",
      "2398/2398 - 6s - loss: 2.7619e-04 - accuracy: 0.0000e+00 - val_loss: 2.5230e-04 - val_accuracy: 0.0000e+00\n",
      "Epoch 11/100\n",
      "WARNING:tensorflow:Early stopping conditioned on metric `val_acc` which is not available. Available metrics are: loss,accuracy,val_loss,val_accuracy\n",
      "2398/2398 - 6s - loss: 2.7051e-04 - accuracy: 0.0000e+00 - val_loss: 2.5278e-04 - val_accuracy: 0.0000e+00\n",
      "Epoch 12/100\n",
      "WARNING:tensorflow:Early stopping conditioned on metric `val_acc` which is not available. Available metrics are: loss,accuracy,val_loss,val_accuracy\n",
      "2398/2398 - 6s - loss: 2.7156e-04 - accuracy: 0.0000e+00 - val_loss: 3.1046e-04 - val_accuracy: 0.0000e+00\n",
      "Epoch 13/100\n",
      "WARNING:tensorflow:Early stopping conditioned on metric `val_acc` which is not available. Available metrics are: loss,accuracy,val_loss,val_accuracy\n",
      "2398/2398 - 6s - loss: 2.7362e-04 - accuracy: 0.0000e+00 - val_loss: 2.5175e-04 - val_accuracy: 0.0000e+00\n",
      "Epoch 14/100\n",
      "WARNING:tensorflow:Early stopping conditioned on metric `val_acc` which is not available. Available metrics are: loss,accuracy,val_loss,val_accuracy\n",
      "2398/2398 - 6s - loss: 2.7235e-04 - accuracy: 0.0000e+00 - val_loss: 2.8412e-04 - val_accuracy: 0.0000e+00\n",
      "Epoch 15/100\n",
      "WARNING:tensorflow:Early stopping conditioned on metric `val_acc` which is not available. Available metrics are: loss,accuracy,val_loss,val_accuracy\n",
      "2398/2398 - 6s - loss: 2.7143e-04 - accuracy: 0.0000e+00 - val_loss: 2.4571e-04 - val_accuracy: 0.0000e+00\n",
      "Epoch 16/100\n",
      "WARNING:tensorflow:Early stopping conditioned on metric `val_acc` which is not available. Available metrics are: loss,accuracy,val_loss,val_accuracy\n",
      "2398/2398 - 6s - loss: 2.7143e-04 - accuracy: 0.0000e+00 - val_loss: 2.4658e-04 - val_accuracy: 0.0000e+00\n",
      "Epoch 17/100\n",
      "WARNING:tensorflow:Early stopping conditioned on metric `val_acc` which is not available. Available metrics are: loss,accuracy,val_loss,val_accuracy\n",
      "2398/2398 - 6s - loss: 2.7075e-04 - accuracy: 0.0000e+00 - val_loss: 2.5312e-04 - val_accuracy: 0.0000e+00\n",
      "Epoch 18/100\n",
      "WARNING:tensorflow:Early stopping conditioned on metric `val_acc` which is not available. Available metrics are: loss,accuracy,val_loss,val_accuracy\n",
      "2398/2398 - 6s - loss: 2.7517e-04 - accuracy: 0.0000e+00 - val_loss: 2.4461e-04 - val_accuracy: 0.0000e+00\n",
      "Epoch 19/100\n",
      "WARNING:tensorflow:Early stopping conditioned on metric `val_acc` which is not available. Available metrics are: loss,accuracy,val_loss,val_accuracy\n",
      "2398/2398 - 6s - loss: 2.7177e-04 - accuracy: 0.0000e+00 - val_loss: 2.7371e-04 - val_accuracy: 0.0000e+00\n",
      "Epoch 20/100\n",
      "WARNING:tensorflow:Early stopping conditioned on metric `val_acc` which is not available. Available metrics are: loss,accuracy,val_loss,val_accuracy\n",
      "2398/2398 - 6s - loss: 2.7036e-04 - accuracy: 0.0000e+00 - val_loss: 2.8103e-04 - val_accuracy: 0.0000e+00\n",
      "Epoch 21/100\n",
      "WARNING:tensorflow:Early stopping conditioned on metric `val_acc` which is not available. Available metrics are: loss,accuracy,val_loss,val_accuracy\n",
      "2398/2398 - 6s - loss: 2.7322e-04 - accuracy: 0.0000e+00 - val_loss: 2.5630e-04 - val_accuracy: 0.0000e+00\n",
      "Epoch 22/100\n",
      "WARNING:tensorflow:Early stopping conditioned on metric `val_acc` which is not available. Available metrics are: loss,accuracy,val_loss,val_accuracy\n",
      "2398/2398 - 6s - loss: 2.6691e-04 - accuracy: 0.0000e+00 - val_loss: 2.4819e-04 - val_accuracy: 0.0000e+00\n",
      "Epoch 23/100\n",
      "WARNING:tensorflow:Early stopping conditioned on metric `val_acc` which is not available. Available metrics are: loss,accuracy,val_loss,val_accuracy\n",
      "2398/2398 - 6s - loss: 2.7294e-04 - accuracy: 0.0000e+00 - val_loss: 2.6055e-04 - val_accuracy: 0.0000e+00\n",
      "Epoch 24/100\n",
      "WARNING:tensorflow:Early stopping conditioned on metric `val_acc` which is not available. Available metrics are: loss,accuracy,val_loss,val_accuracy\n",
      "2398/2398 - 6s - loss: 2.7256e-04 - accuracy: 0.0000e+00 - val_loss: 2.9315e-04 - val_accuracy: 0.0000e+00\n",
      "Epoch 25/100\n",
      "WARNING:tensorflow:Early stopping conditioned on metric `val_acc` which is not available. Available metrics are: loss,accuracy,val_loss,val_accuracy\n",
      "2398/2398 - 6s - loss: 2.6921e-04 - accuracy: 0.0000e+00 - val_loss: 2.8315e-04 - val_accuracy: 0.0000e+00\n",
      "Epoch 26/100\n",
      "WARNING:tensorflow:Early stopping conditioned on metric `val_acc` which is not available. Available metrics are: loss,accuracy,val_loss,val_accuracy\n",
      "2398/2398 - 6s - loss: 2.6754e-04 - accuracy: 0.0000e+00 - val_loss: 2.4580e-04 - val_accuracy: 0.0000e+00\n",
      "Epoch 27/100\n",
      "WARNING:tensorflow:Early stopping conditioned on metric `val_acc` which is not available. Available metrics are: loss,accuracy,val_loss,val_accuracy\n",
      "2398/2398 - 6s - loss: 2.7450e-04 - accuracy: 0.0000e+00 - val_loss: 2.5396e-04 - val_accuracy: 0.0000e+00\n",
      "Epoch 28/100\n",
      "WARNING:tensorflow:Early stopping conditioned on metric `val_acc` which is not available. Available metrics are: loss,accuracy,val_loss,val_accuracy\n",
      "2398/2398 - 6s - loss: 2.7183e-04 - accuracy: 0.0000e+00 - val_loss: 2.4603e-04 - val_accuracy: 0.0000e+00\n",
      "Epoch 29/100\n",
      "WARNING:tensorflow:Early stopping conditioned on metric `val_acc` which is not available. Available metrics are: loss,accuracy,val_loss,val_accuracy\n",
      "2398/2398 - 6s - loss: 2.7348e-04 - accuracy: 0.0000e+00 - val_loss: 2.6428e-04 - val_accuracy: 0.0000e+00\n",
      "Epoch 30/100\n",
      "WARNING:tensorflow:Early stopping conditioned on metric `val_acc` which is not available. Available metrics are: loss,accuracy,val_loss,val_accuracy\n",
      "2398/2398 - 6s - loss: 2.6865e-04 - accuracy: 0.0000e+00 - val_loss: 2.4441e-04 - val_accuracy: 0.0000e+00\n",
      "Epoch 31/100\n",
      "WARNING:tensorflow:Early stopping conditioned on metric `val_acc` which is not available. Available metrics are: loss,accuracy,val_loss,val_accuracy\n"
     ]
    },
    {
     "name": "stdout",
     "output_type": "stream",
     "text": [
      "2398/2398 - 6s - loss: 2.6935e-04 - accuracy: 0.0000e+00 - val_loss: 2.5075e-04 - val_accuracy: 0.0000e+00\n",
      "Epoch 32/100\n",
      "WARNING:tensorflow:Early stopping conditioned on metric `val_acc` which is not available. Available metrics are: loss,accuracy,val_loss,val_accuracy\n",
      "2398/2398 - 6s - loss: 2.7090e-04 - accuracy: 0.0000e+00 - val_loss: 2.9321e-04 - val_accuracy: 0.0000e+00\n",
      "Epoch 33/100\n",
      "WARNING:tensorflow:Early stopping conditioned on metric `val_acc` which is not available. Available metrics are: loss,accuracy,val_loss,val_accuracy\n",
      "2398/2398 - 6s - loss: 2.7128e-04 - accuracy: 0.0000e+00 - val_loss: 2.4406e-04 - val_accuracy: 0.0000e+00\n",
      "Epoch 34/100\n",
      "WARNING:tensorflow:Early stopping conditioned on metric `val_acc` which is not available. Available metrics are: loss,accuracy,val_loss,val_accuracy\n",
      "2398/2398 - 6s - loss: 2.6707e-04 - accuracy: 0.0000e+00 - val_loss: 2.5066e-04 - val_accuracy: 0.0000e+00\n",
      "Epoch 35/100\n",
      "WARNING:tensorflow:Early stopping conditioned on metric `val_acc` which is not available. Available metrics are: loss,accuracy,val_loss,val_accuracy\n",
      "2398/2398 - 6s - loss: 2.6937e-04 - accuracy: 0.0000e+00 - val_loss: 3.0551e-04 - val_accuracy: 0.0000e+00\n",
      "Epoch 36/100\n",
      "WARNING:tensorflow:Early stopping conditioned on metric `val_acc` which is not available. Available metrics are: loss,accuracy,val_loss,val_accuracy\n",
      "2398/2398 - 6s - loss: 2.6828e-04 - accuracy: 0.0000e+00 - val_loss: 2.4632e-04 - val_accuracy: 0.0000e+00\n",
      "Epoch 37/100\n",
      "WARNING:tensorflow:Early stopping conditioned on metric `val_acc` which is not available. Available metrics are: loss,accuracy,val_loss,val_accuracy\n",
      "2398/2398 - 6s - loss: 2.7310e-04 - accuracy: 0.0000e+00 - val_loss: 2.5014e-04 - val_accuracy: 0.0000e+00\n",
      "Epoch 38/100\n",
      "WARNING:tensorflow:Early stopping conditioned on metric `val_acc` which is not available. Available metrics are: loss,accuracy,val_loss,val_accuracy\n",
      "2398/2398 - 6s - loss: 2.7067e-04 - accuracy: 0.0000e+00 - val_loss: 2.4537e-04 - val_accuracy: 0.0000e+00\n",
      "Epoch 39/100\n",
      "WARNING:tensorflow:Early stopping conditioned on metric `val_acc` which is not available. Available metrics are: loss,accuracy,val_loss,val_accuracy\n",
      "2398/2398 - 6s - loss: 2.6881e-04 - accuracy: 0.0000e+00 - val_loss: 3.5945e-04 - val_accuracy: 0.0000e+00\n",
      "Epoch 40/100\n",
      "WARNING:tensorflow:Early stopping conditioned on metric `val_acc` which is not available. Available metrics are: loss,accuracy,val_loss,val_accuracy\n",
      "2398/2398 - 6s - loss: 2.6865e-04 - accuracy: 0.0000e+00 - val_loss: 2.5121e-04 - val_accuracy: 0.0000e+00\n",
      "Epoch 41/100\n",
      "WARNING:tensorflow:Early stopping conditioned on metric `val_acc` which is not available. Available metrics are: loss,accuracy,val_loss,val_accuracy\n",
      "2398/2398 - 6s - loss: 2.7411e-04 - accuracy: 0.0000e+00 - val_loss: 2.4537e-04 - val_accuracy: 0.0000e+00\n",
      "Epoch 42/100\n",
      "WARNING:tensorflow:Early stopping conditioned on metric `val_acc` which is not available. Available metrics are: loss,accuracy,val_loss,val_accuracy\n",
      "2398/2398 - 6s - loss: 2.6753e-04 - accuracy: 0.0000e+00 - val_loss: 2.4854e-04 - val_accuracy: 0.0000e+00\n",
      "Epoch 43/100\n",
      "WARNING:tensorflow:Early stopping conditioned on metric `val_acc` which is not available. Available metrics are: loss,accuracy,val_loss,val_accuracy\n",
      "2398/2398 - 6s - loss: 2.7364e-04 - accuracy: 0.0000e+00 - val_loss: 2.7714e-04 - val_accuracy: 0.0000e+00\n",
      "Epoch 44/100\n",
      "WARNING:tensorflow:Early stopping conditioned on metric `val_acc` which is not available. Available metrics are: loss,accuracy,val_loss,val_accuracy\n",
      "2398/2398 - 6s - loss: 2.6623e-04 - accuracy: 0.0000e+00 - val_loss: 2.4783e-04 - val_accuracy: 0.0000e+00\n",
      "Epoch 45/100\n",
      "WARNING:tensorflow:Early stopping conditioned on metric `val_acc` which is not available. Available metrics are: loss,accuracy,val_loss,val_accuracy\n",
      "2398/2398 - 6s - loss: 2.6888e-04 - accuracy: 0.0000e+00 - val_loss: 3.6365e-04 - val_accuracy: 0.0000e+00\n",
      "Epoch 46/100\n",
      "WARNING:tensorflow:Early stopping conditioned on metric `val_acc` which is not available. Available metrics are: loss,accuracy,val_loss,val_accuracy\n",
      "2398/2398 - 6s - loss: 2.6703e-04 - accuracy: 0.0000e+00 - val_loss: 2.5964e-04 - val_accuracy: 0.0000e+00\n",
      "Epoch 47/100\n",
      "WARNING:tensorflow:Early stopping conditioned on metric `val_acc` which is not available. Available metrics are: loss,accuracy,val_loss,val_accuracy\n",
      "2398/2398 - 6s - loss: 2.6897e-04 - accuracy: 0.0000e+00 - val_loss: 3.0656e-04 - val_accuracy: 0.0000e+00\n",
      "Epoch 48/100\n",
      "WARNING:tensorflow:Early stopping conditioned on metric `val_acc` which is not available. Available metrics are: loss,accuracy,val_loss,val_accuracy\n",
      "2398/2398 - 6s - loss: 2.7235e-04 - accuracy: 0.0000e+00 - val_loss: 3.0817e-04 - val_accuracy: 0.0000e+00\n",
      "Epoch 49/100\n",
      "WARNING:tensorflow:Early stopping conditioned on metric `val_acc` which is not available. Available metrics are: loss,accuracy,val_loss,val_accuracy\n",
      "2398/2398 - 6s - loss: 2.6878e-04 - accuracy: 0.0000e+00 - val_loss: 3.3245e-04 - val_accuracy: 0.0000e+00\n",
      "Epoch 50/100\n",
      "WARNING:tensorflow:Early stopping conditioned on metric `val_acc` which is not available. Available metrics are: loss,accuracy,val_loss,val_accuracy\n",
      "2398/2398 - 6s - loss: 2.6712e-04 - accuracy: 0.0000e+00 - val_loss: 2.4987e-04 - val_accuracy: 0.0000e+00\n",
      "Epoch 51/100\n",
      "WARNING:tensorflow:Early stopping conditioned on metric `val_acc` which is not available. Available metrics are: loss,accuracy,val_loss,val_accuracy\n",
      "2398/2398 - 6s - loss: 2.6889e-04 - accuracy: 0.0000e+00 - val_loss: 2.5108e-04 - val_accuracy: 0.0000e+00\n",
      "Epoch 52/100\n",
      "WARNING:tensorflow:Early stopping conditioned on metric `val_acc` which is not available. Available metrics are: loss,accuracy,val_loss,val_accuracy\n",
      "2398/2398 - 6s - loss: 2.6605e-04 - accuracy: 0.0000e+00 - val_loss: 2.5654e-04 - val_accuracy: 0.0000e+00\n",
      "Epoch 53/100\n",
      "WARNING:tensorflow:Early stopping conditioned on metric `val_acc` which is not available. Available metrics are: loss,accuracy,val_loss,val_accuracy\n",
      "2398/2398 - 6s - loss: 2.6497e-04 - accuracy: 0.0000e+00 - val_loss: 2.6803e-04 - val_accuracy: 0.0000e+00\n",
      "Epoch 54/100\n",
      "WARNING:tensorflow:Early stopping conditioned on metric `val_acc` which is not available. Available metrics are: loss,accuracy,val_loss,val_accuracy\n",
      "2398/2398 - 6s - loss: 2.7155e-04 - accuracy: 0.0000e+00 - val_loss: 2.9108e-04 - val_accuracy: 0.0000e+00\n",
      "Epoch 55/100\n",
      "WARNING:tensorflow:Early stopping conditioned on metric `val_acc` which is not available. Available metrics are: loss,accuracy,val_loss,val_accuracy\n",
      "2398/2398 - 6s - loss: 2.6977e-04 - accuracy: 0.0000e+00 - val_loss: 2.4560e-04 - val_accuracy: 0.0000e+00\n",
      "Epoch 56/100\n",
      "WARNING:tensorflow:Early stopping conditioned on metric `val_acc` which is not available. Available metrics are: loss,accuracy,val_loss,val_accuracy\n",
      "2398/2398 - 6s - loss: 2.7023e-04 - accuracy: 0.0000e+00 - val_loss: 2.4803e-04 - val_accuracy: 0.0000e+00\n",
      "Epoch 57/100\n",
      "WARNING:tensorflow:Early stopping conditioned on metric `val_acc` which is not available. Available metrics are: loss,accuracy,val_loss,val_accuracy\n",
      "2398/2398 - 6s - loss: 2.6921e-04 - accuracy: 0.0000e+00 - val_loss: 2.6172e-04 - val_accuracy: 0.0000e+00\n",
      "Epoch 58/100\n",
      "WARNING:tensorflow:Early stopping conditioned on metric `val_acc` which is not available. Available metrics are: loss,accuracy,val_loss,val_accuracy\n",
      "2398/2398 - 6s - loss: 2.7388e-04 - accuracy: 0.0000e+00 - val_loss: 3.3995e-04 - val_accuracy: 0.0000e+00\n",
      "Epoch 59/100\n",
      "WARNING:tensorflow:Early stopping conditioned on metric `val_acc` which is not available. Available metrics are: loss,accuracy,val_loss,val_accuracy\n",
      "2398/2398 - 6s - loss: 2.6940e-04 - accuracy: 0.0000e+00 - val_loss: 2.4770e-04 - val_accuracy: 0.0000e+00\n",
      "Epoch 60/100\n",
      "WARNING:tensorflow:Early stopping conditioned on metric `val_acc` which is not available. Available metrics are: loss,accuracy,val_loss,val_accuracy\n",
      "2398/2398 - 6s - loss: 2.6994e-04 - accuracy: 0.0000e+00 - val_loss: 2.4417e-04 - val_accuracy: 0.0000e+00\n",
      "Epoch 61/100\n",
      "WARNING:tensorflow:Early stopping conditioned on metric `val_acc` which is not available. Available metrics are: loss,accuracy,val_loss,val_accuracy\n",
      "2398/2398 - 6s - loss: 2.6727e-04 - accuracy: 0.0000e+00 - val_loss: 2.5435e-04 - val_accuracy: 0.0000e+00\n",
      "Epoch 62/100\n",
      "WARNING:tensorflow:Early stopping conditioned on metric `val_acc` which is not available. Available metrics are: loss,accuracy,val_loss,val_accuracy\n"
     ]
    },
    {
     "name": "stdout",
     "output_type": "stream",
     "text": [
      "2398/2398 - 6s - loss: 2.6516e-04 - accuracy: 0.0000e+00 - val_loss: 3.1900e-04 - val_accuracy: 0.0000e+00\n",
      "Epoch 63/100\n",
      "WARNING:tensorflow:Early stopping conditioned on metric `val_acc` which is not available. Available metrics are: loss,accuracy,val_loss,val_accuracy\n",
      "2398/2398 - 6s - loss: 2.6876e-04 - accuracy: 0.0000e+00 - val_loss: 2.8754e-04 - val_accuracy: 0.0000e+00\n",
      "Epoch 64/100\n",
      "WARNING:tensorflow:Early stopping conditioned on metric `val_acc` which is not available. Available metrics are: loss,accuracy,val_loss,val_accuracy\n",
      "2398/2398 - 6s - loss: 2.7080e-04 - accuracy: 0.0000e+00 - val_loss: 2.9047e-04 - val_accuracy: 0.0000e+00\n",
      "Epoch 65/100\n",
      "WARNING:tensorflow:Early stopping conditioned on metric `val_acc` which is not available. Available metrics are: loss,accuracy,val_loss,val_accuracy\n",
      "2398/2398 - 6s - loss: 2.7980e-04 - accuracy: 0.0000e+00 - val_loss: 2.7131e-04 - val_accuracy: 0.0000e+00\n",
      "Epoch 66/100\n",
      "WARNING:tensorflow:Early stopping conditioned on metric `val_acc` which is not available. Available metrics are: loss,accuracy,val_loss,val_accuracy\n",
      "2398/2398 - 6s - loss: 2.7023e-04 - accuracy: 0.0000e+00 - val_loss: 2.8321e-04 - val_accuracy: 0.0000e+00\n",
      "Epoch 67/100\n",
      "WARNING:tensorflow:Early stopping conditioned on metric `val_acc` which is not available. Available metrics are: loss,accuracy,val_loss,val_accuracy\n",
      "2398/2398 - 7s - loss: 2.6059e-04 - accuracy: 0.0000e+00 - val_loss: 4.3262e-04 - val_accuracy: 0.0000e+00\n",
      "Epoch 68/100\n",
      "WARNING:tensorflow:Early stopping conditioned on metric `val_acc` which is not available. Available metrics are: loss,accuracy,val_loss,val_accuracy\n",
      "2398/2398 - 7s - loss: 2.6950e-04 - accuracy: 0.0000e+00 - val_loss: 2.5510e-04 - val_accuracy: 0.0000e+00\n",
      "Epoch 69/100\n",
      "WARNING:tensorflow:Early stopping conditioned on metric `val_acc` which is not available. Available metrics are: loss,accuracy,val_loss,val_accuracy\n",
      "2398/2398 - 6s - loss: 2.7010e-04 - accuracy: 0.0000e+00 - val_loss: 2.5905e-04 - val_accuracy: 0.0000e+00\n",
      "Epoch 70/100\n",
      "WARNING:tensorflow:Early stopping conditioned on metric `val_acc` which is not available. Available metrics are: loss,accuracy,val_loss,val_accuracy\n",
      "2398/2398 - 7s - loss: 2.6398e-04 - accuracy: 0.0000e+00 - val_loss: 2.4800e-04 - val_accuracy: 0.0000e+00\n",
      "Epoch 71/100\n",
      "WARNING:tensorflow:Early stopping conditioned on metric `val_acc` which is not available. Available metrics are: loss,accuracy,val_loss,val_accuracy\n",
      "2398/2398 - 9s - loss: 2.6793e-04 - accuracy: 0.0000e+00 - val_loss: 2.4760e-04 - val_accuracy: 0.0000e+00\n",
      "Epoch 72/100\n",
      "WARNING:tensorflow:Early stopping conditioned on metric `val_acc` which is not available. Available metrics are: loss,accuracy,val_loss,val_accuracy\n",
      "2398/2398 - 7s - loss: 2.7076e-04 - accuracy: 0.0000e+00 - val_loss: 3.0118e-04 - val_accuracy: 0.0000e+00\n",
      "Epoch 73/100\n",
      "WARNING:tensorflow:Early stopping conditioned on metric `val_acc` which is not available. Available metrics are: loss,accuracy,val_loss,val_accuracy\n",
      "2398/2398 - 6s - loss: 2.6948e-04 - accuracy: 0.0000e+00 - val_loss: 2.4257e-04 - val_accuracy: 0.0000e+00\n",
      "Epoch 74/100\n",
      "WARNING:tensorflow:Early stopping conditioned on metric `val_acc` which is not available. Available metrics are: loss,accuracy,val_loss,val_accuracy\n",
      "2398/2398 - 6s - loss: 2.6992e-04 - accuracy: 0.0000e+00 - val_loss: 3.5516e-04 - val_accuracy: 0.0000e+00\n",
      "Epoch 75/100\n",
      "WARNING:tensorflow:Early stopping conditioned on metric `val_acc` which is not available. Available metrics are: loss,accuracy,val_loss,val_accuracy\n",
      "2398/2398 - 7s - loss: 2.6463e-04 - accuracy: 0.0000e+00 - val_loss: 2.4444e-04 - val_accuracy: 0.0000e+00\n",
      "Epoch 76/100\n",
      "WARNING:tensorflow:Early stopping conditioned on metric `val_acc` which is not available. Available metrics are: loss,accuracy,val_loss,val_accuracy\n",
      "2398/2398 - 6s - loss: 2.6740e-04 - accuracy: 0.0000e+00 - val_loss: 2.9132e-04 - val_accuracy: 0.0000e+00\n",
      "Epoch 77/100\n",
      "WARNING:tensorflow:Early stopping conditioned on metric `val_acc` which is not available. Available metrics are: loss,accuracy,val_loss,val_accuracy\n",
      "2398/2398 - 6s - loss: 2.6592e-04 - accuracy: 0.0000e+00 - val_loss: 2.4239e-04 - val_accuracy: 0.0000e+00\n",
      "Epoch 78/100\n",
      "WARNING:tensorflow:Early stopping conditioned on metric `val_acc` which is not available. Available metrics are: loss,accuracy,val_loss,val_accuracy\n",
      "2398/2398 - 7s - loss: 2.6801e-04 - accuracy: 0.0000e+00 - val_loss: 2.4436e-04 - val_accuracy: 0.0000e+00\n",
      "Epoch 79/100\n",
      "WARNING:tensorflow:Early stopping conditioned on metric `val_acc` which is not available. Available metrics are: loss,accuracy,val_loss,val_accuracy\n",
      "2398/2398 - 6s - loss: 2.6833e-04 - accuracy: 0.0000e+00 - val_loss: 2.4666e-04 - val_accuracy: 0.0000e+00\n",
      "Epoch 80/100\n",
      "WARNING:tensorflow:Early stopping conditioned on metric `val_acc` which is not available. Available metrics are: loss,accuracy,val_loss,val_accuracy\n",
      "2398/2398 - 6s - loss: 2.6448e-04 - accuracy: 0.0000e+00 - val_loss: 2.4377e-04 - val_accuracy: 0.0000e+00\n",
      "Epoch 81/100\n",
      "WARNING:tensorflow:Early stopping conditioned on metric `val_acc` which is not available. Available metrics are: loss,accuracy,val_loss,val_accuracy\n",
      "2398/2398 - 6s - loss: 2.6833e-04 - accuracy: 0.0000e+00 - val_loss: 2.4188e-04 - val_accuracy: 0.0000e+00\n",
      "Epoch 82/100\n",
      "WARNING:tensorflow:Early stopping conditioned on metric `val_acc` which is not available. Available metrics are: loss,accuracy,val_loss,val_accuracy\n",
      "2398/2398 - 8s - loss: 2.6758e-04 - accuracy: 0.0000e+00 - val_loss: 3.2794e-04 - val_accuracy: 0.0000e+00\n",
      "Epoch 83/100\n",
      "WARNING:tensorflow:Early stopping conditioned on metric `val_acc` which is not available. Available metrics are: loss,accuracy,val_loss,val_accuracy\n",
      "2398/2398 - 8s - loss: 2.6921e-04 - accuracy: 0.0000e+00 - val_loss: 2.4151e-04 - val_accuracy: 0.0000e+00\n",
      "Epoch 84/100\n",
      "WARNING:tensorflow:Early stopping conditioned on metric `val_acc` which is not available. Available metrics are: loss,accuracy,val_loss,val_accuracy\n",
      "2398/2398 - 8s - loss: 2.6538e-04 - accuracy: 0.0000e+00 - val_loss: 2.8198e-04 - val_accuracy: 0.0000e+00\n",
      "Epoch 85/100\n",
      "WARNING:tensorflow:Early stopping conditioned on metric `val_acc` which is not available. Available metrics are: loss,accuracy,val_loss,val_accuracy\n",
      "2398/2398 - 9s - loss: 2.6989e-04 - accuracy: 0.0000e+00 - val_loss: 2.8030e-04 - val_accuracy: 0.0000e+00\n",
      "Epoch 86/100\n",
      "WARNING:tensorflow:Early stopping conditioned on metric `val_acc` which is not available. Available metrics are: loss,accuracy,val_loss,val_accuracy\n",
      "2398/2398 - 10s - loss: 2.6840e-04 - accuracy: 0.0000e+00 - val_loss: 2.9153e-04 - val_accuracy: 0.0000e+00\n",
      "Epoch 87/100\n",
      "WARNING:tensorflow:Early stopping conditioned on metric `val_acc` which is not available. Available metrics are: loss,accuracy,val_loss,val_accuracy\n",
      "2398/2398 - 9s - loss: 2.6577e-04 - accuracy: 0.0000e+00 - val_loss: 3.4770e-04 - val_accuracy: 0.0000e+00\n",
      "Epoch 88/100\n",
      "WARNING:tensorflow:Early stopping conditioned on metric `val_acc` which is not available. Available metrics are: loss,accuracy,val_loss,val_accuracy\n",
      "2398/2398 - 9s - loss: 2.6690e-04 - accuracy: 0.0000e+00 - val_loss: 2.4363e-04 - val_accuracy: 0.0000e+00\n",
      "Epoch 89/100\n",
      "WARNING:tensorflow:Early stopping conditioned on metric `val_acc` which is not available. Available metrics are: loss,accuracy,val_loss,val_accuracy\n",
      "2398/2398 - 9s - loss: 2.6666e-04 - accuracy: 0.0000e+00 - val_loss: 2.5648e-04 - val_accuracy: 0.0000e+00\n",
      "Epoch 90/100\n",
      "WARNING:tensorflow:Early stopping conditioned on metric `val_acc` which is not available. Available metrics are: loss,accuracy,val_loss,val_accuracy\n",
      "2398/2398 - 9s - loss: 2.6666e-04 - accuracy: 0.0000e+00 - val_loss: 2.6704e-04 - val_accuracy: 0.0000e+00\n",
      "Epoch 91/100\n",
      "WARNING:tensorflow:Early stopping conditioned on metric `val_acc` which is not available. Available metrics are: loss,accuracy,val_loss,val_accuracy\n",
      "2398/2398 - 9s - loss: 2.6890e-04 - accuracy: 0.0000e+00 - val_loss: 2.8833e-04 - val_accuracy: 0.0000e+00\n",
      "Epoch 92/100\n",
      "WARNING:tensorflow:Early stopping conditioned on metric `val_acc` which is not available. Available metrics are: loss,accuracy,val_loss,val_accuracy\n",
      "2398/2398 - 9s - loss: 2.6227e-04 - accuracy: 0.0000e+00 - val_loss: 2.4085e-04 - val_accuracy: 0.0000e+00\n",
      "Epoch 93/100\n",
      "WARNING:tensorflow:Early stopping conditioned on metric `val_acc` which is not available. Available metrics are: loss,accuracy,val_loss,val_accuracy\n"
     ]
    },
    {
     "name": "stdout",
     "output_type": "stream",
     "text": [
      "2398/2398 - 8s - loss: 2.6847e-04 - accuracy: 0.0000e+00 - val_loss: 2.4914e-04 - val_accuracy: 0.0000e+00\n",
      "Epoch 94/100\n",
      "WARNING:tensorflow:Early stopping conditioned on metric `val_acc` which is not available. Available metrics are: loss,accuracy,val_loss,val_accuracy\n",
      "2398/2398 - 8s - loss: 2.6677e-04 - accuracy: 0.0000e+00 - val_loss: 2.6704e-04 - val_accuracy: 0.0000e+00\n",
      "Epoch 95/100\n",
      "WARNING:tensorflow:Early stopping conditioned on metric `val_acc` which is not available. Available metrics are: loss,accuracy,val_loss,val_accuracy\n",
      "2398/2398 - 8s - loss: 2.6535e-04 - accuracy: 0.0000e+00 - val_loss: 3.1686e-04 - val_accuracy: 0.0000e+00\n",
      "Epoch 96/100\n",
      "WARNING:tensorflow:Early stopping conditioned on metric `val_acc` which is not available. Available metrics are: loss,accuracy,val_loss,val_accuracy\n",
      "2398/2398 - 8s - loss: 2.6676e-04 - accuracy: 0.0000e+00 - val_loss: 2.6812e-04 - val_accuracy: 0.0000e+00\n",
      "Epoch 97/100\n",
      "WARNING:tensorflow:Early stopping conditioned on metric `val_acc` which is not available. Available metrics are: loss,accuracy,val_loss,val_accuracy\n",
      "2398/2398 - 8s - loss: 2.7114e-04 - accuracy: 0.0000e+00 - val_loss: 2.4067e-04 - val_accuracy: 0.0000e+00\n",
      "Epoch 98/100\n",
      "WARNING:tensorflow:Early stopping conditioned on metric `val_acc` which is not available. Available metrics are: loss,accuracy,val_loss,val_accuracy\n",
      "2398/2398 - 8s - loss: 2.6844e-04 - accuracy: 0.0000e+00 - val_loss: 2.4658e-04 - val_accuracy: 0.0000e+00\n",
      "Epoch 99/100\n",
      "WARNING:tensorflow:Early stopping conditioned on metric `val_acc` which is not available. Available metrics are: loss,accuracy,val_loss,val_accuracy\n",
      "2398/2398 - 8s - loss: 2.6632e-04 - accuracy: 0.0000e+00 - val_loss: 2.4745e-04 - val_accuracy: 0.0000e+00\n",
      "Epoch 100/100\n",
      "WARNING:tensorflow:Early stopping conditioned on metric `val_acc` which is not available. Available metrics are: loss,accuracy,val_loss,val_accuracy\n",
      "2398/2398 - 8s - loss: 2.6775e-04 - accuracy: 0.0000e+00 - val_loss: 2.4155e-04 - val_accuracy: 0.0000e+00\n"
     ]
    }
   ],
   "source": [
    "standing_model = model.fit(train_standing_X, train_standing_Y, epochs=epochs, batch_size=batch_size, verbose=2, validation_data=(train_standing_X, train_standing_Y), shuffle=True,callbacks=[timed])\n",
    "model.save('lstm_model_standing.h5')"
   ]
  },
  {
   "cell_type": "code",
   "execution_count": 33,
   "metadata": {},
   "outputs": [
    {
     "name": "stdout",
     "output_type": "stream",
     "text": [
      "Training Score: 0.23972674809205913\n",
      "Testing Score: 0.19348015216482062\n"
     ]
    }
   ],
   "source": [
    "# Make prediction for standing\n",
    "training_prediction_standing = model.predict(train_standing_X)\n",
    "test_prediction_standing = model.predict(test_standing_X)\n",
    "# Invert Prediction\n",
    "train_prediction_invert_standing = scaler.inverse_transform(training_prediction_standing)\n",
    "train_standing_Y = scaler.inverse_transform([train_standing_Y])\n",
    "test_prediction_invert_standing = scaler.inverse_transform(test_prediction_standing)\n",
    "test_standing_Y = scaler.inverse_transform([test_standing_Y])\n",
    "# Calculating the root error\n",
    "training_score = math.sqrt(mean_squared_error(train_standing_Y[0],train_prediction_invert_standing[:,0]))\n",
    "print('Training Score:', (training_score))\n",
    "testing_score = math.sqrt(mean_squared_error(test_standing_Y[0],test_prediction_invert_standing[:,0]))\n",
    "print('Testing Score:', (testing_score))"
   ]
  },
  {
   "cell_type": "code",
   "execution_count": 34,
   "metadata": {},
   "outputs": [],
   "source": [
    "# Trained Prediction\n",
    "trainingPredictPlot_standing = np.empty_like(standing_set)\n",
    "trainingPredictPlot_standing[:, :] = np.nan\n",
    "trainingPredictPlot_standing[1:len(train_prediction_invert_standing)+1, :] = train_prediction_invert_standing\n",
    "# Test Prediction\n",
    "testPredictPlot_standing = np.empty_like(standing_set)\n",
    "testPredictPlot_standing[:, :] = np.nan\n",
    "testPredictPlot_standing[len(train_prediction_invert_standing)+(1*2)+1:len(standing_set)-1, :] = test_prediction_invert_standing"
   ]
  },
  {
   "cell_type": "code",
   "execution_count": 35,
   "metadata": {},
   "outputs": [
    {
     "data": {
      "image/png": "[encoded data removed]",
      "text/plain": [
       "<Figure size 432x288 with 1 Axes>"
      ]
     },
     "metadata": {
      "needs_background": "light"
     },
     "output_type": "display_data"
    }
   ],
   "source": [
    "# Predictions\n",
    "plt.plot(scaler.inverse_transform(standing_set))\n",
    "plt.plot(trainingPredictPlot_standing)\n",
    "plt.plot(testPredictPlot_standing)\n",
    "plt.savefig('standing_set.png',dpi=500)\n",
    "plt.show()"
   ]
  },
  {
   "cell_type": "code",
   "execution_count": 36,
   "metadata": {},
   "outputs": [],
   "source": [
    "# scores = model.evaluate(test_standing_X,test_standing_Y)\n",
    "# print('Loss: %.2f' %scores[0])\n",
    "# print('Accuracy: %0.2f' %scores[1])"
   ]
  },
  {
   "cell_type": "code",
   "execution_count": 37,
   "metadata": {},
   "outputs": [
    {
     "data": {
      "image/png": "[encoded data removed]",
      "text/plain": [
       "<Figure size 432x288 with 1 Axes>"
      ]
     },
     "metadata": {
      "needs_background": "light"
     },
     "output_type": "display_data"
    },
    {
     "data": {
      "image/png": "[encoded data removed]",
      "text/plain": [
       "<Figure size 432x288 with 1 Axes>"
      ]
     },
     "metadata": {
      "needs_background": "light"
     },
     "output_type": "display_data"
    }
   ],
   "source": [
    "pyplot.plot(sitting_model.history['accuracy'])\n",
    "pyplot.plot(sitting_model.history['val_accuracy'])\n",
    "pyplot.title('model accuracy')\n",
    "pyplot.ylabel('accuracy')\n",
    "pyplot.xlabel('epoch')\n",
    "pyplot.legend(['train', 'validation'], loc='upper right')\n",
    "plt.savefig('standing_set_model_accuracy.png', dpi=500)\n",
    "pyplot.show()\n",
    "pyplot.plot(sitting_model.history['loss'])\n",
    "pyplot.plot(sitting_model.history['val_loss'])\n",
    "pyplot.title('model loss')\n",
    "pyplot.ylabel('loss')\n",
    "pyplot.xlabel('epoch')\n",
    "pyplot.legend(['train', 'validation'], loc='upper right')\n",
    "plt.savefig('standing_set_model_lost.png', dpi=500)\n",
    "pyplot.show()"
   ]
  },
  {
   "cell_type": "code",
   "execution_count": 38,
   "metadata": {},
   "outputs": [
    {
     "name": "stdout",
     "output_type": "stream",
     "text": [
      "Epoch 1/100\n",
      "WARNING:tensorflow:Early stopping conditioned on metric `val_acc` which is not available. Available metrics are: loss,accuracy,val_loss,val_accuracy\n",
      "2398/2398 - 6s - loss: 0.0134 - accuracy: 0.0000e+00 - val_loss: 0.0010 - val_accuracy: 0.0000e+00\n",
      "Epoch 2/100\n",
      "WARNING:tensorflow:Early stopping conditioned on metric `val_acc` which is not available. Available metrics are: loss,accuracy,val_loss,val_accuracy\n",
      "2398/2398 - 6s - loss: 6.6348e-04 - accuracy: 0.0000e+00 - val_loss: 5.9904e-04 - val_accuracy: 0.0000e+00\n",
      "Epoch 3/100\n",
      "WARNING:tensorflow:Early stopping conditioned on metric `val_acc` which is not available. Available metrics are: loss,accuracy,val_loss,val_accuracy\n",
      "2398/2398 - 6s - loss: 6.2764e-04 - accuracy: 0.0000e+00 - val_loss: 6.0301e-04 - val_accuracy: 0.0000e+00\n",
      "Epoch 4/100\n",
      "WARNING:tensorflow:Early stopping conditioned on metric `val_acc` which is not available. Available metrics are: loss,accuracy,val_loss,val_accuracy\n",
      "2398/2398 - 6s - loss: 6.2807e-04 - accuracy: 0.0000e+00 - val_loss: 6.0572e-04 - val_accuracy: 0.0000e+00\n",
      "Epoch 5/100\n",
      "WARNING:tensorflow:Early stopping conditioned on metric `val_acc` which is not available. Available metrics are: loss,accuracy,val_loss,val_accuracy\n",
      "2398/2398 - 7s - loss: 6.3102e-04 - accuracy: 0.0000e+00 - val_loss: 6.2288e-04 - val_accuracy: 0.0000e+00\n",
      "Epoch 6/100\n",
      "WARNING:tensorflow:Early stopping conditioned on metric `val_acc` which is not available. Available metrics are: loss,accuracy,val_loss,val_accuracy\n",
      "2398/2398 - 6s - loss: 6.2765e-04 - accuracy: 0.0000e+00 - val_loss: 7.9614e-04 - val_accuracy: 0.0000e+00\n",
      "Epoch 7/100\n",
      "WARNING:tensorflow:Early stopping conditioned on metric `val_acc` which is not available. Available metrics are: loss,accuracy,val_loss,val_accuracy\n",
      "2398/2398 - 6s - loss: 6.3186e-04 - accuracy: 0.0000e+00 - val_loss: 6.6854e-04 - val_accuracy: 0.0000e+00\n",
      "Epoch 8/100\n",
      "WARNING:tensorflow:Early stopping conditioned on metric `val_acc` which is not available. Available metrics are: loss,accuracy,val_loss,val_accuracy\n",
      "2398/2398 - 7s - loss: 6.2436e-04 - accuracy: 0.0000e+00 - val_loss: 6.6711e-04 - val_accuracy: 0.0000e+00\n",
      "Epoch 9/100\n",
      "WARNING:tensorflow:Early stopping conditioned on metric `val_acc` which is not available. Available metrics are: loss,accuracy,val_loss,val_accuracy\n",
      "2398/2398 - 11s - loss: 6.2149e-04 - accuracy: 0.0000e+00 - val_loss: 6.3741e-04 - val_accuracy: 0.0000e+00\n",
      "Epoch 10/100\n",
      "WARNING:tensorflow:Early stopping conditioned on metric `val_acc` which is not available. Available metrics are: loss,accuracy,val_loss,val_accuracy\n",
      "2398/2398 - 8s - loss: 6.2465e-04 - accuracy: 0.0000e+00 - val_loss: 6.1675e-04 - val_accuracy: 0.0000e+00\n",
      "Epoch 11/100\n",
      "WARNING:tensorflow:Early stopping conditioned on metric `val_acc` which is not available. Available metrics are: loss,accuracy,val_loss,val_accuracy\n",
      "2398/2398 - 7s - loss: 6.3287e-04 - accuracy: 0.0000e+00 - val_loss: 6.0419e-04 - val_accuracy: 0.0000e+00\n",
      "Epoch 12/100\n",
      "WARNING:tensorflow:Early stopping conditioned on metric `val_acc` which is not available. Available metrics are: loss,accuracy,val_loss,val_accuracy\n",
      "2398/2398 - 7s - loss: 6.3546e-04 - accuracy: 0.0000e+00 - val_loss: 6.0482e-04 - val_accuracy: 0.0000e+00\n",
      "Epoch 13/100\n",
      "WARNING:tensorflow:Early stopping conditioned on metric `val_acc` which is not available. Available metrics are: loss,accuracy,val_loss,val_accuracy\n",
      "2398/2398 - 12s - loss: 6.3237e-04 - accuracy: 0.0000e+00 - val_loss: 6.6208e-04 - val_accuracy: 0.0000e+00\n",
      "Epoch 14/100\n",
      "WARNING:tensorflow:Early stopping conditioned on metric `val_acc` which is not available. Available metrics are: loss,accuracy,val_loss,val_accuracy\n",
      "2398/2398 - 8s - loss: 6.2738e-04 - accuracy: 0.0000e+00 - val_loss: 5.9664e-04 - val_accuracy: 0.0000e+00\n",
      "Epoch 15/100\n",
      "WARNING:tensorflow:Early stopping conditioned on metric `val_acc` which is not available. Available metrics are: loss,accuracy,val_loss,val_accuracy\n",
      "2398/2398 - 8s - loss: 6.2764e-04 - accuracy: 0.0000e+00 - val_loss: 6.2428e-04 - val_accuracy: 0.0000e+00\n",
      "Epoch 16/100\n",
      "WARNING:tensorflow:Early stopping conditioned on metric `val_acc` which is not available. Available metrics are: loss,accuracy,val_loss,val_accuracy\n",
      "2398/2398 - 8s - loss: 6.2649e-04 - accuracy: 0.0000e+00 - val_loss: 5.9238e-04 - val_accuracy: 0.0000e+00\n",
      "Epoch 17/100\n",
      "WARNING:tensorflow:Early stopping conditioned on metric `val_acc` which is not available. Available metrics are: loss,accuracy,val_loss,val_accuracy\n",
      "2398/2398 - 8s - loss: 6.2361e-04 - accuracy: 0.0000e+00 - val_loss: 6.1853e-04 - val_accuracy: 0.0000e+00\n",
      "Epoch 18/100\n",
      "WARNING:tensorflow:Early stopping conditioned on metric `val_acc` which is not available. Available metrics are: loss,accuracy,val_loss,val_accuracy\n",
      "2398/2398 - 8s - loss: 6.3159e-04 - accuracy: 0.0000e+00 - val_loss: 5.9287e-04 - val_accuracy: 0.0000e+00\n",
      "Epoch 19/100\n",
      "WARNING:tensorflow:Early stopping conditioned on metric `val_acc` which is not available. Available metrics are: loss,accuracy,val_loss,val_accuracy\n",
      "2398/2398 - 8s - loss: 6.3038e-04 - accuracy: 0.0000e+00 - val_loss: 7.4447e-04 - val_accuracy: 0.0000e+00\n",
      "Epoch 20/100\n",
      "WARNING:tensorflow:Early stopping conditioned on metric `val_acc` which is not available. Available metrics are: loss,accuracy,val_loss,val_accuracy\n",
      "2398/2398 - 8s - loss: 6.2967e-04 - accuracy: 0.0000e+00 - val_loss: 5.9036e-04 - val_accuracy: 0.0000e+00\n",
      "Epoch 21/100\n",
      "WARNING:tensorflow:Early stopping conditioned on metric `val_acc` which is not available. Available metrics are: loss,accuracy,val_loss,val_accuracy\n",
      "2398/2398 - 8s - loss: 6.2770e-04 - accuracy: 0.0000e+00 - val_loss: 5.9514e-04 - val_accuracy: 0.0000e+00\n",
      "Epoch 22/100\n",
      "WARNING:tensorflow:Early stopping conditioned on metric `val_acc` which is not available. Available metrics are: loss,accuracy,val_loss,val_accuracy\n",
      "2398/2398 - 8s - loss: 6.3148e-04 - accuracy: 0.0000e+00 - val_loss: 6.0635e-04 - val_accuracy: 0.0000e+00\n",
      "Epoch 23/100\n",
      "WARNING:tensorflow:Early stopping conditioned on metric `val_acc` which is not available. Available metrics are: loss,accuracy,val_loss,val_accuracy\n",
      "2398/2398 - 8s - loss: 6.2739e-04 - accuracy: 0.0000e+00 - val_loss: 5.9178e-04 - val_accuracy: 0.0000e+00\n",
      "Epoch 24/100\n",
      "WARNING:tensorflow:Early stopping conditioned on metric `val_acc` which is not available. Available metrics are: loss,accuracy,val_loss,val_accuracy\n",
      "2398/2398 - 8s - loss: 6.2008e-04 - accuracy: 0.0000e+00 - val_loss: 7.7045e-04 - val_accuracy: 0.0000e+00\n",
      "Epoch 25/100\n",
      "WARNING:tensorflow:Early stopping conditioned on metric `val_acc` which is not available. Available metrics are: loss,accuracy,val_loss,val_accuracy\n",
      "2398/2398 - 8s - loss: 6.2350e-04 - accuracy: 0.0000e+00 - val_loss: 6.0810e-04 - val_accuracy: 0.0000e+00\n",
      "Epoch 26/100\n",
      "WARNING:tensorflow:Early stopping conditioned on metric `val_acc` which is not available. Available metrics are: loss,accuracy,val_loss,val_accuracy\n",
      "2398/2398 - 8s - loss: 6.2350e-04 - accuracy: 0.0000e+00 - val_loss: 6.6126e-04 - val_accuracy: 0.0000e+00\n",
      "Epoch 27/100\n",
      "WARNING:tensorflow:Early stopping conditioned on metric `val_acc` which is not available. Available metrics are: loss,accuracy,val_loss,val_accuracy\n",
      "2398/2398 - 8s - loss: 6.2563e-04 - accuracy: 0.0000e+00 - val_loss: 6.0897e-04 - val_accuracy: 0.0000e+00\n",
      "Epoch 28/100\n",
      "WARNING:tensorflow:Early stopping conditioned on metric `val_acc` which is not available. Available metrics are: loss,accuracy,val_loss,val_accuracy\n",
      "2398/2398 - 8s - loss: 6.2090e-04 - accuracy: 0.0000e+00 - val_loss: 5.9528e-04 - val_accuracy: 0.0000e+00\n",
      "Epoch 29/100\n",
      "WARNING:tensorflow:Early stopping conditioned on metric `val_acc` which is not available. Available metrics are: loss,accuracy,val_loss,val_accuracy\n",
      "2398/2398 - 8s - loss: 6.2830e-04 - accuracy: 0.0000e+00 - val_loss: 6.3337e-04 - val_accuracy: 0.0000e+00\n",
      "Epoch 30/100\n",
      "WARNING:tensorflow:Early stopping conditioned on metric `val_acc` which is not available. Available metrics are: loss,accuracy,val_loss,val_accuracy\n",
      "2398/2398 - 8s - loss: 6.3503e-04 - accuracy: 0.0000e+00 - val_loss: 5.9250e-04 - val_accuracy: 0.0000e+00\n",
      "Epoch 31/100\n",
      "WARNING:tensorflow:Early stopping conditioned on metric `val_acc` which is not available. Available metrics are: loss,accuracy,val_loss,val_accuracy\n"
     ]
    },
    {
     "name": "stdout",
     "output_type": "stream",
     "text": [
      "2398/2398 - 9s - loss: 6.2199e-04 - accuracy: 0.0000e+00 - val_loss: 5.9455e-04 - val_accuracy: 0.0000e+00\n",
      "Epoch 32/100\n",
      "WARNING:tensorflow:Early stopping conditioned on metric `val_acc` which is not available. Available metrics are: loss,accuracy,val_loss,val_accuracy\n",
      "2398/2398 - 12s - loss: 6.2568e-04 - accuracy: 0.0000e+00 - val_loss: 6.3698e-04 - val_accuracy: 0.0000e+00\n",
      "Epoch 33/100\n",
      "WARNING:tensorflow:Early stopping conditioned on metric `val_acc` which is not available. Available metrics are: loss,accuracy,val_loss,val_accuracy\n",
      "2398/2398 - 9s - loss: 6.2733e-04 - accuracy: 0.0000e+00 - val_loss: 6.3360e-04 - val_accuracy: 0.0000e+00\n",
      "Epoch 34/100\n",
      "WARNING:tensorflow:Early stopping conditioned on metric `val_acc` which is not available. Available metrics are: loss,accuracy,val_loss,val_accuracy\n",
      "2398/2398 - 12s - loss: 6.3156e-04 - accuracy: 0.0000e+00 - val_loss: 6.0207e-04 - val_accuracy: 0.0000e+00\n",
      "Epoch 35/100\n",
      "WARNING:tensorflow:Early stopping conditioned on metric `val_acc` which is not available. Available metrics are: loss,accuracy,val_loss,val_accuracy\n",
      "2398/2398 - 15s - loss: 6.2686e-04 - accuracy: 0.0000e+00 - val_loss: 6.3083e-04 - val_accuracy: 0.0000e+00\n",
      "Epoch 36/100\n",
      "WARNING:tensorflow:Early stopping conditioned on metric `val_acc` which is not available. Available metrics are: loss,accuracy,val_loss,val_accuracy\n",
      "2398/2398 - 18s - loss: 6.2793e-04 - accuracy: 0.0000e+00 - val_loss: 6.1889e-04 - val_accuracy: 0.0000e+00\n",
      "Epoch 37/100\n",
      "WARNING:tensorflow:Early stopping conditioned on metric `val_acc` which is not available. Available metrics are: loss,accuracy,val_loss,val_accuracy\n",
      "2398/2398 - 10s - loss: 6.2673e-04 - accuracy: 0.0000e+00 - val_loss: 6.0231e-04 - val_accuracy: 0.0000e+00\n",
      "Epoch 38/100\n",
      "WARNING:tensorflow:Early stopping conditioned on metric `val_acc` which is not available. Available metrics are: loss,accuracy,val_loss,val_accuracy\n",
      "2398/2398 - 10s - loss: 6.2501e-04 - accuracy: 0.0000e+00 - val_loss: 6.3125e-04 - val_accuracy: 0.0000e+00\n",
      "Epoch 39/100\n",
      "WARNING:tensorflow:Early stopping conditioned on metric `val_acc` which is not available. Available metrics are: loss,accuracy,val_loss,val_accuracy\n",
      "2398/2398 - 11s - loss: 6.2888e-04 - accuracy: 0.0000e+00 - val_loss: 5.9977e-04 - val_accuracy: 0.0000e+00\n",
      "Epoch 40/100\n",
      "WARNING:tensorflow:Early stopping conditioned on metric `val_acc` which is not available. Available metrics are: loss,accuracy,val_loss,val_accuracy\n",
      "2398/2398 - 9s - loss: 6.2746e-04 - accuracy: 0.0000e+00 - val_loss: 6.3921e-04 - val_accuracy: 0.0000e+00\n",
      "Epoch 41/100\n",
      "WARNING:tensorflow:Early stopping conditioned on metric `val_acc` which is not available. Available metrics are: loss,accuracy,val_loss,val_accuracy\n",
      "2398/2398 - 9s - loss: 6.2313e-04 - accuracy: 0.0000e+00 - val_loss: 5.9658e-04 - val_accuracy: 0.0000e+00\n",
      "Epoch 42/100\n",
      "WARNING:tensorflow:Early stopping conditioned on metric `val_acc` which is not available. Available metrics are: loss,accuracy,val_loss,val_accuracy\n",
      "2398/2398 - 9s - loss: 6.2077e-04 - accuracy: 0.0000e+00 - val_loss: 5.8831e-04 - val_accuracy: 0.0000e+00\n",
      "Epoch 43/100\n",
      "WARNING:tensorflow:Early stopping conditioned on metric `val_acc` which is not available. Available metrics are: loss,accuracy,val_loss,val_accuracy\n",
      "2398/2398 - 9s - loss: 6.2833e-04 - accuracy: 0.0000e+00 - val_loss: 5.8881e-04 - val_accuracy: 0.0000e+00\n",
      "Epoch 44/100\n",
      "WARNING:tensorflow:Early stopping conditioned on metric `val_acc` which is not available. Available metrics are: loss,accuracy,val_loss,val_accuracy\n",
      "2398/2398 - 9s - loss: 6.2610e-04 - accuracy: 0.0000e+00 - val_loss: 6.5588e-04 - val_accuracy: 0.0000e+00\n",
      "Epoch 45/100\n",
      "WARNING:tensorflow:Early stopping conditioned on metric `val_acc` which is not available. Available metrics are: loss,accuracy,val_loss,val_accuracy\n",
      "2398/2398 - 9s - loss: 6.2069e-04 - accuracy: 0.0000e+00 - val_loss: 6.2033e-04 - val_accuracy: 0.0000e+00\n",
      "Epoch 46/100\n",
      "WARNING:tensorflow:Early stopping conditioned on metric `val_acc` which is not available. Available metrics are: loss,accuracy,val_loss,val_accuracy\n",
      "2398/2398 - 9s - loss: 6.1986e-04 - accuracy: 0.0000e+00 - val_loss: 5.8783e-04 - val_accuracy: 0.0000e+00\n",
      "Epoch 47/100\n",
      "WARNING:tensorflow:Early stopping conditioned on metric `val_acc` which is not available. Available metrics are: loss,accuracy,val_loss,val_accuracy\n",
      "2398/2398 - 9s - loss: 6.2892e-04 - accuracy: 0.0000e+00 - val_loss: 6.2281e-04 - val_accuracy: 0.0000e+00\n",
      "Epoch 48/100\n",
      "WARNING:tensorflow:Early stopping conditioned on metric `val_acc` which is not available. Available metrics are: loss,accuracy,val_loss,val_accuracy\n",
      "2398/2398 - 9s - loss: 6.2006e-04 - accuracy: 0.0000e+00 - val_loss: 7.2005e-04 - val_accuracy: 0.0000e+00\n",
      "Epoch 49/100\n",
      "WARNING:tensorflow:Early stopping conditioned on metric `val_acc` which is not available. Available metrics are: loss,accuracy,val_loss,val_accuracy\n",
      "2398/2398 - 9s - loss: 6.2157e-04 - accuracy: 0.0000e+00 - val_loss: 6.6350e-04 - val_accuracy: 0.0000e+00\n",
      "Epoch 50/100\n",
      "WARNING:tensorflow:Early stopping conditioned on metric `val_acc` which is not available. Available metrics are: loss,accuracy,val_loss,val_accuracy\n",
      "2398/2398 - 9s - loss: 6.2384e-04 - accuracy: 0.0000e+00 - val_loss: 6.0807e-04 - val_accuracy: 0.0000e+00\n",
      "Epoch 51/100\n",
      "WARNING:tensorflow:Early stopping conditioned on metric `val_acc` which is not available. Available metrics are: loss,accuracy,val_loss,val_accuracy\n",
      "2398/2398 - 9s - loss: 6.2192e-04 - accuracy: 0.0000e+00 - val_loss: 6.1423e-04 - val_accuracy: 0.0000e+00\n",
      "Epoch 52/100\n",
      "WARNING:tensorflow:Early stopping conditioned on metric `val_acc` which is not available. Available metrics are: loss,accuracy,val_loss,val_accuracy\n",
      "2398/2398 - 9s - loss: 6.2869e-04 - accuracy: 0.0000e+00 - val_loss: 5.8918e-04 - val_accuracy: 0.0000e+00\n",
      "Epoch 53/100\n",
      "WARNING:tensorflow:Early stopping conditioned on metric `val_acc` which is not available. Available metrics are: loss,accuracy,val_loss,val_accuracy\n",
      "2398/2398 - 9s - loss: 6.2710e-04 - accuracy: 0.0000e+00 - val_loss: 5.8890e-04 - val_accuracy: 0.0000e+00\n",
      "Epoch 54/100\n",
      "WARNING:tensorflow:Early stopping conditioned on metric `val_acc` which is not available. Available metrics are: loss,accuracy,val_loss,val_accuracy\n",
      "2398/2398 - 10s - loss: 6.2604e-04 - accuracy: 0.0000e+00 - val_loss: 6.8882e-04 - val_accuracy: 0.0000e+00\n",
      "Epoch 55/100\n",
      "WARNING:tensorflow:Early stopping conditioned on metric `val_acc` which is not available. Available metrics are: loss,accuracy,val_loss,val_accuracy\n",
      "2398/2398 - 10s - loss: 6.2389e-04 - accuracy: 0.0000e+00 - val_loss: 6.0600e-04 - val_accuracy: 0.0000e+00\n",
      "Epoch 56/100\n",
      "WARNING:tensorflow:Early stopping conditioned on metric `val_acc` which is not available. Available metrics are: loss,accuracy,val_loss,val_accuracy\n",
      "2398/2398 - 9s - loss: 6.2896e-04 - accuracy: 0.0000e+00 - val_loss: 5.9347e-04 - val_accuracy: 0.0000e+00\n",
      "Epoch 57/100\n",
      "WARNING:tensorflow:Early stopping conditioned on metric `val_acc` which is not available. Available metrics are: loss,accuracy,val_loss,val_accuracy\n",
      "2398/2398 - 9s - loss: 6.2267e-04 - accuracy: 0.0000e+00 - val_loss: 5.8827e-04 - val_accuracy: 0.0000e+00\n",
      "Epoch 58/100\n",
      "WARNING:tensorflow:Early stopping conditioned on metric `val_acc` which is not available. Available metrics are: loss,accuracy,val_loss,val_accuracy\n",
      "2398/2398 - 9s - loss: 6.3260e-04 - accuracy: 0.0000e+00 - val_loss: 6.6521e-04 - val_accuracy: 0.0000e+00\n",
      "Epoch 59/100\n",
      "WARNING:tensorflow:Early stopping conditioned on metric `val_acc` which is not available. Available metrics are: loss,accuracy,val_loss,val_accuracy\n",
      "2398/2398 - 9s - loss: 6.1797e-04 - accuracy: 0.0000e+00 - val_loss: 7.7410e-04 - val_accuracy: 0.0000e+00\n",
      "Epoch 60/100\n",
      "WARNING:tensorflow:Early stopping conditioned on metric `val_acc` which is not available. Available metrics are: loss,accuracy,val_loss,val_accuracy\n",
      "2398/2398 - 9s - loss: 6.1875e-04 - accuracy: 0.0000e+00 - val_loss: 5.9931e-04 - val_accuracy: 0.0000e+00\n",
      "Epoch 61/100\n",
      "WARNING:tensorflow:Early stopping conditioned on metric `val_acc` which is not available. Available metrics are: loss,accuracy,val_loss,val_accuracy\n",
      "2398/2398 - 9s - loss: 6.2646e-04 - accuracy: 0.0000e+00 - val_loss: 5.9145e-04 - val_accuracy: 0.0000e+00\n",
      "Epoch 62/100\n"
     ]
    },
    {
     "name": "stdout",
     "output_type": "stream",
     "text": [
      "WARNING:tensorflow:Early stopping conditioned on metric `val_acc` which is not available. Available metrics are: loss,accuracy,val_loss,val_accuracy\n",
      "2398/2398 - 6s - loss: 6.2715e-04 - accuracy: 0.0000e+00 - val_loss: 5.9926e-04 - val_accuracy: 0.0000e+00\n",
      "Epoch 63/100\n",
      "WARNING:tensorflow:Early stopping conditioned on metric `val_acc` which is not available. Available metrics are: loss,accuracy,val_loss,val_accuracy\n",
      "2398/2398 - 6s - loss: 6.2588e-04 - accuracy: 0.0000e+00 - val_loss: 6.0836e-04 - val_accuracy: 0.0000e+00\n",
      "Epoch 64/100\n",
      "WARNING:tensorflow:Early stopping conditioned on metric `val_acc` which is not available. Available metrics are: loss,accuracy,val_loss,val_accuracy\n",
      "2398/2398 - 6s - loss: 6.2248e-04 - accuracy: 0.0000e+00 - val_loss: 5.9229e-04 - val_accuracy: 0.0000e+00\n",
      "Epoch 65/100\n",
      "WARNING:tensorflow:Early stopping conditioned on metric `val_acc` which is not available. Available metrics are: loss,accuracy,val_loss,val_accuracy\n",
      "2398/2398 - 6s - loss: 6.1591e-04 - accuracy: 0.0000e+00 - val_loss: 5.9421e-04 - val_accuracy: 0.0000e+00\n",
      "Epoch 66/100\n",
      "WARNING:tensorflow:Early stopping conditioned on metric `val_acc` which is not available. Available metrics are: loss,accuracy,val_loss,val_accuracy\n",
      "2398/2398 - 6s - loss: 6.1502e-04 - accuracy: 0.0000e+00 - val_loss: 5.8689e-04 - val_accuracy: 0.0000e+00\n",
      "Epoch 67/100\n",
      "WARNING:tensorflow:Early stopping conditioned on metric `val_acc` which is not available. Available metrics are: loss,accuracy,val_loss,val_accuracy\n",
      "2398/2398 - 6s - loss: 6.2602e-04 - accuracy: 0.0000e+00 - val_loss: 7.3219e-04 - val_accuracy: 0.0000e+00\n",
      "Epoch 68/100\n",
      "WARNING:tensorflow:Early stopping conditioned on metric `val_acc` which is not available. Available metrics are: loss,accuracy,val_loss,val_accuracy\n",
      "2398/2398 - 6s - loss: 6.2738e-04 - accuracy: 0.0000e+00 - val_loss: 6.8761e-04 - val_accuracy: 0.0000e+00\n",
      "Epoch 69/100\n",
      "WARNING:tensorflow:Early stopping conditioned on metric `val_acc` which is not available. Available metrics are: loss,accuracy,val_loss,val_accuracy\n",
      "2398/2398 - 6s - loss: 6.1919e-04 - accuracy: 0.0000e+00 - val_loss: 6.1169e-04 - val_accuracy: 0.0000e+00\n",
      "Epoch 70/100\n",
      "WARNING:tensorflow:Early stopping conditioned on metric `val_acc` which is not available. Available metrics are: loss,accuracy,val_loss,val_accuracy\n",
      "2398/2398 - 6s - loss: 6.1835e-04 - accuracy: 0.0000e+00 - val_loss: 6.0250e-04 - val_accuracy: 0.0000e+00\n",
      "Epoch 71/100\n",
      "WARNING:tensorflow:Early stopping conditioned on metric `val_acc` which is not available. Available metrics are: loss,accuracy,val_loss,val_accuracy\n",
      "2398/2398 - 6s - loss: 6.1784e-04 - accuracy: 0.0000e+00 - val_loss: 5.8963e-04 - val_accuracy: 0.0000e+00\n",
      "Epoch 72/100\n",
      "WARNING:tensorflow:Early stopping conditioned on metric `val_acc` which is not available. Available metrics are: loss,accuracy,val_loss,val_accuracy\n",
      "2398/2398 - 6s - loss: 6.2039e-04 - accuracy: 0.0000e+00 - val_loss: 5.8870e-04 - val_accuracy: 0.0000e+00\n",
      "Epoch 73/100\n",
      "WARNING:tensorflow:Early stopping conditioned on metric `val_acc` which is not available. Available metrics are: loss,accuracy,val_loss,val_accuracy\n",
      "2398/2398 - 6s - loss: 6.3023e-04 - accuracy: 0.0000e+00 - val_loss: 6.2981e-04 - val_accuracy: 0.0000e+00\n",
      "Epoch 74/100\n",
      "WARNING:tensorflow:Early stopping conditioned on metric `val_acc` which is not available. Available metrics are: loss,accuracy,val_loss,val_accuracy\n",
      "2398/2398 - 6s - loss: 6.2706e-04 - accuracy: 0.0000e+00 - val_loss: 6.1933e-04 - val_accuracy: 0.0000e+00\n",
      "Epoch 75/100\n",
      "WARNING:tensorflow:Early stopping conditioned on metric `val_acc` which is not available. Available metrics are: loss,accuracy,val_loss,val_accuracy\n",
      "2398/2398 - 6s - loss: 6.2020e-04 - accuracy: 0.0000e+00 - val_loss: 6.1566e-04 - val_accuracy: 0.0000e+00\n",
      "Epoch 76/100\n",
      "WARNING:tensorflow:Early stopping conditioned on metric `val_acc` which is not available. Available metrics are: loss,accuracy,val_loss,val_accuracy\n",
      "2398/2398 - 6s - loss: 6.2342e-04 - accuracy: 0.0000e+00 - val_loss: 6.1644e-04 - val_accuracy: 0.0000e+00\n",
      "Epoch 77/100\n",
      "WARNING:tensorflow:Early stopping conditioned on metric `val_acc` which is not available. Available metrics are: loss,accuracy,val_loss,val_accuracy\n",
      "2398/2398 - 6s - loss: 6.2098e-04 - accuracy: 0.0000e+00 - val_loss: 7.4677e-04 - val_accuracy: 0.0000e+00\n",
      "Epoch 78/100\n",
      "WARNING:tensorflow:Early stopping conditioned on metric `val_acc` which is not available. Available metrics are: loss,accuracy,val_loss,val_accuracy\n",
      "2398/2398 - 6s - loss: 6.2667e-04 - accuracy: 0.0000e+00 - val_loss: 5.9212e-04 - val_accuracy: 0.0000e+00\n",
      "Epoch 79/100\n",
      "WARNING:tensorflow:Early stopping conditioned on metric `val_acc` which is not available. Available metrics are: loss,accuracy,val_loss,val_accuracy\n",
      "2398/2398 - 7s - loss: 6.1719e-04 - accuracy: 0.0000e+00 - val_loss: 5.8848e-04 - val_accuracy: 0.0000e+00\n",
      "Epoch 80/100\n",
      "WARNING:tensorflow:Early stopping conditioned on metric `val_acc` which is not available. Available metrics are: loss,accuracy,val_loss,val_accuracy\n",
      "2398/2398 - 7s - loss: 6.2094e-04 - accuracy: 0.0000e+00 - val_loss: 5.9710e-04 - val_accuracy: 0.0000e+00\n",
      "Epoch 81/100\n",
      "WARNING:tensorflow:Early stopping conditioned on metric `val_acc` which is not available. Available metrics are: loss,accuracy,val_loss,val_accuracy\n",
      "2398/2398 - 7s - loss: 6.1359e-04 - accuracy: 0.0000e+00 - val_loss: 6.1326e-04 - val_accuracy: 0.0000e+00\n",
      "Epoch 82/100\n",
      "WARNING:tensorflow:Early stopping conditioned on metric `val_acc` which is not available. Available metrics are: loss,accuracy,val_loss,val_accuracy\n",
      "2398/2398 - 6s - loss: 6.2562e-04 - accuracy: 0.0000e+00 - val_loss: 6.2283e-04 - val_accuracy: 0.0000e+00\n",
      "Epoch 83/100\n",
      "WARNING:tensorflow:Early stopping conditioned on metric `val_acc` which is not available. Available metrics are: loss,accuracy,val_loss,val_accuracy\n",
      "2398/2398 - 7s - loss: 6.1856e-04 - accuracy: 0.0000e+00 - val_loss: 6.4061e-04 - val_accuracy: 0.0000e+00\n",
      "Epoch 84/100\n",
      "WARNING:tensorflow:Early stopping conditioned on metric `val_acc` which is not available. Available metrics are: loss,accuracy,val_loss,val_accuracy\n",
      "2398/2398 - 6s - loss: 6.2107e-04 - accuracy: 0.0000e+00 - val_loss: 6.2205e-04 - val_accuracy: 0.0000e+00\n",
      "Epoch 85/100\n",
      "WARNING:tensorflow:Early stopping conditioned on metric `val_acc` which is not available. Available metrics are: loss,accuracy,val_loss,val_accuracy\n",
      "2398/2398 - 6s - loss: 6.2713e-04 - accuracy: 0.0000e+00 - val_loss: 5.9762e-04 - val_accuracy: 0.0000e+00\n",
      "Epoch 86/100\n",
      "WARNING:tensorflow:Early stopping conditioned on metric `val_acc` which is not available. Available metrics are: loss,accuracy,val_loss,val_accuracy\n",
      "2398/2398 - 7s - loss: 6.0977e-04 - accuracy: 0.0000e+00 - val_loss: 7.1249e-04 - val_accuracy: 0.0000e+00\n",
      "Epoch 87/100\n",
      "WARNING:tensorflow:Early stopping conditioned on metric `val_acc` which is not available. Available metrics are: loss,accuracy,val_loss,val_accuracy\n",
      "2398/2398 - 6s - loss: 6.2182e-04 - accuracy: 0.0000e+00 - val_loss: 7.7522e-04 - val_accuracy: 0.0000e+00\n",
      "Epoch 88/100\n",
      "WARNING:tensorflow:Early stopping conditioned on metric `val_acc` which is not available. Available metrics are: loss,accuracy,val_loss,val_accuracy\n",
      "2398/2398 - 7s - loss: 6.2194e-04 - accuracy: 0.0000e+00 - val_loss: 5.8719e-04 - val_accuracy: 0.0000e+00\n",
      "Epoch 89/100\n",
      "WARNING:tensorflow:Early stopping conditioned on metric `val_acc` which is not available. Available metrics are: loss,accuracy,val_loss,val_accuracy\n",
      "2398/2398 - 6s - loss: 6.2071e-04 - accuracy: 0.0000e+00 - val_loss: 6.4708e-04 - val_accuracy: 0.0000e+00\n",
      "Epoch 90/100\n",
      "WARNING:tensorflow:Early stopping conditioned on metric `val_acc` which is not available. Available metrics are: loss,accuracy,val_loss,val_accuracy\n",
      "2398/2398 - 7s - loss: 6.2162e-04 - accuracy: 0.0000e+00 - val_loss: 5.8818e-04 - val_accuracy: 0.0000e+00\n",
      "Epoch 91/100\n",
      "WARNING:tensorflow:Early stopping conditioned on metric `val_acc` which is not available. Available metrics are: loss,accuracy,val_loss,val_accuracy\n",
      "2398/2398 - 6s - loss: 6.1902e-04 - accuracy: 0.0000e+00 - val_loss: 7.1975e-04 - val_accuracy: 0.0000e+00\n",
      "Epoch 92/100\n",
      "WARNING:tensorflow:Early stopping conditioned on metric `val_acc` which is not available. Available metrics are: loss,accuracy,val_loss,val_accuracy\n"
     ]
    },
    {
     "name": "stdout",
     "output_type": "stream",
     "text": [
      "2398/2398 - 6s - loss: 6.2395e-04 - accuracy: 0.0000e+00 - val_loss: 5.9109e-04 - val_accuracy: 0.0000e+00\n",
      "Epoch 93/100\n",
      "WARNING:tensorflow:Early stopping conditioned on metric `val_acc` which is not available. Available metrics are: loss,accuracy,val_loss,val_accuracy\n",
      "2398/2398 - 7s - loss: 6.2485e-04 - accuracy: 0.0000e+00 - val_loss: 6.0936e-04 - val_accuracy: 0.0000e+00\n",
      "Epoch 94/100\n",
      "WARNING:tensorflow:Early stopping conditioned on metric `val_acc` which is not available. Available metrics are: loss,accuracy,val_loss,val_accuracy\n",
      "2398/2398 - 6s - loss: 6.1454e-04 - accuracy: 0.0000e+00 - val_loss: 6.9670e-04 - val_accuracy: 0.0000e+00\n",
      "Epoch 95/100\n",
      "WARNING:tensorflow:Early stopping conditioned on metric `val_acc` which is not available. Available metrics are: loss,accuracy,val_loss,val_accuracy\n",
      "2398/2398 - 7s - loss: 6.2542e-04 - accuracy: 0.0000e+00 - val_loss: 5.9761e-04 - val_accuracy: 0.0000e+00\n",
      "Epoch 96/100\n",
      "WARNING:tensorflow:Early stopping conditioned on metric `val_acc` which is not available. Available metrics are: loss,accuracy,val_loss,val_accuracy\n",
      "2398/2398 - 6s - loss: 6.1854e-04 - accuracy: 0.0000e+00 - val_loss: 5.9295e-04 - val_accuracy: 0.0000e+00\n",
      "Epoch 97/100\n",
      "WARNING:tensorflow:Early stopping conditioned on metric `val_acc` which is not available. Available metrics are: loss,accuracy,val_loss,val_accuracy\n",
      "2398/2398 - 6s - loss: 6.1922e-04 - accuracy: 0.0000e+00 - val_loss: 6.1102e-04 - val_accuracy: 0.0000e+00\n",
      "Epoch 98/100\n",
      "WARNING:tensorflow:Early stopping conditioned on metric `val_acc` which is not available. Available metrics are: loss,accuracy,val_loss,val_accuracy\n",
      "2398/2398 - 6s - loss: 6.2443e-04 - accuracy: 0.0000e+00 - val_loss: 5.8822e-04 - val_accuracy: 0.0000e+00\n",
      "Epoch 99/100\n",
      "WARNING:tensorflow:Early stopping conditioned on metric `val_acc` which is not available. Available metrics are: loss,accuracy,val_loss,val_accuracy\n",
      "2398/2398 - 6s - loss: 6.1992e-04 - accuracy: 0.0000e+00 - val_loss: 6.4711e-04 - val_accuracy: 0.0000e+00\n",
      "Epoch 100/100\n",
      "WARNING:tensorflow:Early stopping conditioned on metric `val_acc` which is not available. Available metrics are: loss,accuracy,val_loss,val_accuracy\n",
      "2398/2398 - 7s - loss: 6.2116e-04 - accuracy: 0.0000e+00 - val_loss: 5.8500e-04 - val_accuracy: 0.0000e+00\n"
     ]
    }
   ],
   "source": [
    "# Create and the fit the LSTM network, with 1 visible layer with 1 input and a hitten\n",
    "# layer with 4 LSTM neurons\n",
    "model = Sequential()\n",
    "model.add(LSTM(4, input_shape=(1,1)))\n",
    "model.add(Dense(1))\n",
    "model.compile(loss=\"mean_squared_error\", optimizer=\"adam\",metrics = [\"Accuracy\"])\n",
    "model.fit(train_walking_X, train_walking_Y, epochs=epochs, batch_size=batch_size, verbose=2, validation_data=(train_walking_X, train_walking_Y), shuffle=True,callbacks=[timed])\n",
    "model.save('lstm_model_walking.h5')"
   ]
  },
  {
   "cell_type": "code",
   "execution_count": 39,
   "metadata": {},
   "outputs": [],
   "source": [
    "# Make prediction for walking\n",
    "training_prediction_walking = model.predict(train_walking_X)\n",
    "test_prediction_walking = model.predict(test_walking_X)\n",
    "# Invert Prediction\n",
    "train_prediction_invert_walking = scaler.inverse_transform(training_prediction_walking)\n",
    "train_walking_Y = scaler.inverse_transform([train_walking_Y])\n",
    "test_prediction_invert_walking = scaler.inverse_transform(test_prediction_walking)\n",
    "test_walking_Y = scaler.inverse_transform([test_walking_Y])"
   ]
  },
  {
   "cell_type": "code",
   "execution_count": 40,
   "metadata": {},
   "outputs": [
    {
     "name": "stdout",
     "output_type": "stream",
     "text": [
      "Training Score: 0.37307089333766486\n",
      "Testing Score: 0.427685572040959\n"
     ]
    }
   ],
   "source": [
    "# Calculating the root error\n",
    "training_score = math.sqrt(mean_squared_error(train_walking_Y[0],train_prediction_invert_walking[:,0]))\n",
    "print('Training Score:', (training_score))\n",
    "testing_score = math.sqrt(mean_squared_error(test_walking_Y[0],test_prediction_invert_walking[:,0]))\n",
    "print('Testing Score:', (testing_score))\n",
    "# Trained Prediction\n",
    "trainingPredictPlot_walking = np.empty_like(walking_set)\n",
    "trainingPredictPlot_walking[:, :] = np.nan\n",
    "trainingPredictPlot_walking[1:len(train_prediction_invert_walking)+1, :] = train_prediction_invert_walking\n",
    "# Test Prediction\n",
    "testPredictPlot_walking = np.empty_like(walking_set)\n",
    "testPredictPlot_walking[:, :] = np.nan\n",
    "testPredictPlot_walking[len(train_prediction_invert_walking)+(1*2)+1:len(walking_set)-1, :] = test_prediction_invert_walking"
   ]
  },
  {
   "cell_type": "code",
   "execution_count": 41,
   "metadata": {},
   "outputs": [
    {
     "data": {
      "image/png": "[encoded data removed]",
      "text/plain": [
       "<Figure size 432x288 with 1 Axes>"
      ]
     },
     "metadata": {
      "needs_background": "light"
     },
     "output_type": "display_data"
    }
   ],
   "source": [
    "# Predictions\n",
    "plt.plot(scaler.inverse_transform(walking_set))\n",
    "plt.plot(trainingPredictPlot_walking)\n",
    "plt.plot(testPredictPlot_walking)\n",
    "plt.savefig('walking_set.png',dpi=500)\n",
    "plt.show()"
   ]
  },
  {
   "cell_type": "code",
   "execution_count": 42,
   "metadata": {},
   "outputs": [],
   "source": [
    "# scores = model.evaluate(test_walking_X,test_walking_Y)\n",
    "# print('Loss: %.2f' %scores[0])\n",
    "# print('Accuracy: %0.2f' %scores[1])"
   ]
  },
  {
   "cell_type": "code",
   "execution_count": 43,
   "metadata": {},
   "outputs": [
    {
     "data": {
      "image/png": "[encoded data removed]",
      "text/plain": [
       "<Figure size 432x288 with 1 Axes>"
      ]
     },
     "metadata": {
      "needs_background": "light"
     },
     "output_type": "display_data"
    },
    {
     "data": {
      "image/png": "[encoded data removed]",
      "text/plain": [
       "<Figure size 432x288 with 1 Axes>"
      ]
     },
     "metadata": {
      "needs_background": "light"
     },
     "output_type": "display_data"
    }
   ],
   "source": [
    "pyplot.plot(sitting_model.history['accuracy'])\n",
    "pyplot.plot(sitting_model.history['val_accuracy'])\n",
    "pyplot.title('model accuracy')\n",
    "pyplot.ylabel('accuracy')\n",
    "pyplot.xlabel('epoch')\n",
    "pyplot.legend(['train', 'validation'], loc='upper right')\n",
    "plt.savefig('walking_set_model_accuracy.png', dpi=500)\n",
    "pyplot.show()\n",
    "pyplot.plot(sitting_model.history['loss'])\n",
    "pyplot.plot(sitting_model.history['val_loss'])\n",
    "pyplot.title('model loss')\n",
    "pyplot.ylabel('loss')\n",
    "pyplot.xlabel('epoch')\n",
    "pyplot.legend(['train', 'validation'], loc='upper right')\n",
    "plt.savefig('walking_set_model_lost.png', dpi=500)\n",
    "pyplot.show()"
   ]
  },
  {
   "cell_type": "code",
   "execution_count": null,
   "metadata": {},
   "outputs": [],
   "source": []
  }
 ],
 "metadata": {
  "kernelspec": {
   "display_name": "Python 3",
   "language": "python",
   "name": "python3"
  },
  "language_info": {
   "codemirror_mode": {
    "name": "ipython",
    "version": 3
   },
   "file_extension": ".py",
   "mimetype": "text/x-python",
   "name": "python",
   "nbconvert_exporter": "python",
   "pygments_lexer": "ipython3",
   "version": "3.8.5"
  }
 },
 "nbformat": 4,
 "nbformat_minor": 4
}
